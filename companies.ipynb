{
 "cells": [
  {
   "metadata": {
    "ExecuteTime": {
     "end_time": "2025-04-15T14:13:47.586182Z",
     "start_time": "2025-04-15T14:13:47.584108Z"
    }
   },
   "cell_type": "code",
   "source": [
    "import pandas as pd\n",
    "import requests\n",
    "from io import StringIO\n",
    "\n"
   ],
   "id": "d261e13354dc5b35",
   "outputs": [],
   "execution_count": 22
  },
  {
   "metadata": {
    "ExecuteTime": {
     "end_time": "2025-04-15T12:09:50.343908Z",
     "start_time": "2025-04-15T12:09:50.337763Z"
    }
   },
   "cell_type": "code",
   "source": [
    "\n",
    "\n",
    "def read_http(http_url) -> pd.DataFrame:\n",
    "    response = requests.get(http_url)\n",
    "    content = response.text\n",
    "    content = content.replace(\"\\t\", \",\").replace(\",:\", \",0\")\n",
    "    return pd.read_csv(StringIO(content), delimiter=\",\")"
   ],
   "id": "80925abccb9b6685",
   "outputs": [],
   "execution_count": 6
  },
  {
   "metadata": {
    "jupyter": {
     "is_executing": true
    },
    "ExecuteTime": {
     "start_time": "2025-04-15T12:14:01.922737Z"
    }
   },
   "cell_type": "code",
   "source": [
    "\n",
    "df = read_http(\"https://ec.europa.eu/eurostat/api/dissemination/sdmx/3.0/data/dataflow/ESTAT/sbs_sc_ovw/1.0?compress=false&format=csvdata&formatVersion=2.0&lang=en&labels=name\")\n",
    "df.to_csv(\"./estat_sbs_sc_ovw_en.csv\")\n",
    "df.columns"
   ],
   "id": "798138882a3161c3",
   "outputs": [],
   "execution_count": null
  },
  {
   "metadata": {
    "ExecuteTime": {
     "end_time": "2025-04-15T12:34:51.294587Z",
     "start_time": "2025-04-15T12:34:47.046211Z"
    }
   },
   "cell_type": "code",
   "source": [
    "df = pd.read_csv(\"./estat_sbs_sc_ovw_en.csv\")\n",
    "print(df.columns)\n",
    "print(df[\"indic_sbs\"].unique())\n",
    "df[[\"nace_r2\", \"geo\", \"size_emp\", \"indic_sbs\"]].head()"
   ],
   "id": "90bd0ad5f7ef715e",
   "outputs": [
    {
     "name": "stdout",
     "output_type": "stream",
     "text": [
      "Index(['STRUCTURE', 'STRUCTURE_ID', 'STRUCTURE_NAME', 'freq', 'Time frequency',\n",
      "       'indic_sbs', 'Economical indicator for structural business statistics',\n",
      "       'nace_r2',\n",
      "       'Statistical classification of economic activities in the European Community (NACE Rev. 2)',\n",
      "       'size_emp', 'Size classes in number of persons employed', 'geo',\n",
      "       'Geopolitical entity (reporting)', 'TIME_PERIOD', 'Time', 'OBS_VALUE',\n",
      "       'Observation value', 'OBS_FLAG',\n",
      "       'Observation status (Flag) V2 structure', 'CONF_STATUS',\n",
      "       'Confidentiality status (flag)'],\n",
      "      dtype='object')\n",
      "['AVG_EXPN_SAL_BEN_TEUR' 'AV_HW_EUR' 'AV_MEUR' 'AV_MFG_PC' 'AV_SAL_TEUR'\n",
      " 'AV_VAL_OUT_PC' 'EMP_ENT_NR' 'EMP_MFG_PC' 'EMP_NR' 'ENT_NR'\n",
      " 'EXPN_SAL_BEN_HW_EUR' 'EXPN_SAL_BEN_MEUR' 'EXPN_SAL_BEN_PUR_PC'\n",
      " 'EXPN_SAL_BEN_VAL_OUT_PC' 'GOR_PC' 'GOS_AV_PC' 'GOS_MEUR' 'GRW_EMP_PC'\n",
      " 'HW_NR' 'LABPRY_TEUR' 'LC_AV_PC' 'LC_EMP_TEUR' 'NETTUR_EMP_TEUR'\n",
      " 'NETTUR_MEUR' 'NETTUR_MFG_PC' 'PUR_MEUR' 'SAL_EMP_PC' 'SAL_NR'\n",
      " 'SS_COST_EXPN_SAL_BEN_PC' 'SS_COST_MEUR' 'VAL_OUT_MEUR' 'VAL_OUT_MFG_PC'\n",
      " 'WAGE_LABPRY_PC' 'WAGE_MEUR']\n"
     ]
    },
    {
     "data": {
      "text/plain": [
       "  nace_r2 geo size_emp              indic_sbs\n",
       "0       B  AL      0-9  AVG_EXPN_SAL_BEN_TEUR\n",
       "1       B  AL      0-9  AVG_EXPN_SAL_BEN_TEUR\n",
       "2       B  AT      0-9  AVG_EXPN_SAL_BEN_TEUR\n",
       "3       B  AT      0-9  AVG_EXPN_SAL_BEN_TEUR\n",
       "4       B  BA      0-9  AVG_EXPN_SAL_BEN_TEUR"
      ],
      "text/html": [
       "<div>\n",
       "<style scoped>\n",
       "    .dataframe tbody tr th:only-of-type {\n",
       "        vertical-align: middle;\n",
       "    }\n",
       "\n",
       "    .dataframe tbody tr th {\n",
       "        vertical-align: top;\n",
       "    }\n",
       "\n",
       "    .dataframe thead th {\n",
       "        text-align: right;\n",
       "    }\n",
       "</style>\n",
       "<table border=\"1\" class=\"dataframe\">\n",
       "  <thead>\n",
       "    <tr style=\"text-align: right;\">\n",
       "      <th></th>\n",
       "      <th>nace_r2</th>\n",
       "      <th>geo</th>\n",
       "      <th>size_emp</th>\n",
       "      <th>indic_sbs</th>\n",
       "    </tr>\n",
       "  </thead>\n",
       "  <tbody>\n",
       "    <tr>\n",
       "      <th>0</th>\n",
       "      <td>B</td>\n",
       "      <td>AL</td>\n",
       "      <td>0-9</td>\n",
       "      <td>AVG_EXPN_SAL_BEN_TEUR</td>\n",
       "    </tr>\n",
       "    <tr>\n",
       "      <th>1</th>\n",
       "      <td>B</td>\n",
       "      <td>AL</td>\n",
       "      <td>0-9</td>\n",
       "      <td>AVG_EXPN_SAL_BEN_TEUR</td>\n",
       "    </tr>\n",
       "    <tr>\n",
       "      <th>2</th>\n",
       "      <td>B</td>\n",
       "      <td>AT</td>\n",
       "      <td>0-9</td>\n",
       "      <td>AVG_EXPN_SAL_BEN_TEUR</td>\n",
       "    </tr>\n",
       "    <tr>\n",
       "      <th>3</th>\n",
       "      <td>B</td>\n",
       "      <td>AT</td>\n",
       "      <td>0-9</td>\n",
       "      <td>AVG_EXPN_SAL_BEN_TEUR</td>\n",
       "    </tr>\n",
       "    <tr>\n",
       "      <th>4</th>\n",
       "      <td>B</td>\n",
       "      <td>BA</td>\n",
       "      <td>0-9</td>\n",
       "      <td>AVG_EXPN_SAL_BEN_TEUR</td>\n",
       "    </tr>\n",
       "  </tbody>\n",
       "</table>\n",
       "</div>"
      ]
     },
     "execution_count": 9,
     "metadata": {},
     "output_type": "execute_result"
    }
   ],
   "execution_count": 9
  },
  {
   "metadata": {
    "ExecuteTime": {
     "end_time": "2025-04-15T14:14:52.464908Z",
     "start_time": "2025-04-15T14:14:46.911436Z"
    }
   },
   "cell_type": "code",
   "source": [
    "url=\"https://ec.europa.eu/eurostat/api/dissemination/sdmx/3.0/data/dataflow/ESTAT/tour_lfs1r2$defaultview/1.0?compress=false&format=csvdata&formatVersion=2.0&lang=en&labels=name\"\n",
    "\n",
    "df = pd.read_csv(url)\n",
    "df.columns"
   ],
   "id": "c6c859a45196b57b",
   "outputs": [
    {
     "data": {
      "text/plain": [
       "Index(['STRUCTURE', 'STRUCTURE_ID', 'STRUCTURE_NAME', 'freq', 'Time frequency',\n",
       "       'nace_r2',\n",
       "       'Statistical classification of economic activities in the European Community (NACE Rev. 2)',\n",
       "       'wstatus', 'Labour force and employment status', 'worktime',\n",
       "       'Working time', 'unit', 'Unit of measure', 'geo',\n",
       "       'Geopolitical entity (reporting)', 'TIME_PERIOD', 'Time', 'OBS_VALUE',\n",
       "       'Observation value', 'OBS_FLAG',\n",
       "       'Observation status (Flag) V2 structure', 'CONF_STATUS',\n",
       "       'Confidentiality status (flag)'],\n",
       "      dtype='object')"
      ]
     },
     "execution_count": 26,
     "metadata": {},
     "output_type": "execute_result"
    }
   ],
   "execution_count": 26
  },
  {
   "metadata": {
    "ExecuteTime": {
     "end_time": "2025-04-15T14:15:16.046614Z",
     "start_time": "2025-04-15T14:15:14.005899Z"
    }
   },
   "cell_type": "code",
   "source": [
    "url = \"https://ec.europa.eu/eurostat/api/dissemination/sdmx/3.0/data/dataflow/ESTAT/urb_cecfi/1.0/*.*.*?c[freq]=A&c[indic_ur]=EC2021V,EC2039V&c[cities]=BE,BE001C,BE002C,BE003C,BE004C,BE005C,BE006C,BE007C,BE008C,BE009C,BE010C,BE011C,BG,BG001C,BG002C,BG003C,BG004C,BG005C,BG006C,BG007C,BG008C,BG009C,BG010C,BG011C,BG012C,BG013C,BG014C,BG015C,BG016C,BG017C,BG018C,CZ,CZ001C,CZ002C,CZ003C,CZ004C,CZ005C,CZ006C,CZ007C,CZ008C,CZ009C,CZ010C,CZ011C,CZ012C,CZ013C,CZ014C,CZ015C,CZ016C,CZ017C,CZ018C,DK,DK002C,DK003C,DK004C,DE,DE001C,DE002C,DE003C,DE004C,DE005C,DE006C,DE007C,DE008C,DE009C,DE010C,DE011C,DE012C,DE013C,DE014C,DE015C,DE016C,DE017C,DE018C,DE019C,DE020C,DE021C,DE022C,DE023C,DE024C,DE025C,DE026C,DE027C,DE028C,DE029C,DE030C,DE031C,DE032C,DE033C,DE034C,DE035C,DE036C,DE037C,DE038C,DE039C,DE040C,DE041C,DE045C,DE049C,DE052C,DE053C,DE056C,DE058C,DE059C,DE063C,DE064C,DE066C,DE067C,DE074C,DE077C,DE078C,DE079C,DE080C,DE081C,DE082C,DE083C,DE084C,DE085C,DE086C,DE087C,DE088C,DE089C,DE090C,DE091C,DE092C,DE093C,DE094C,DE095C,DE096C,DE097C,DE098C,DE099C,DE100C,DE101C,DE102C,DE103C,DE104C,DE105C,DE106C,DE107C,DE108C,DE109C,DE110C,DE111C,DE112C,DE113C,DE114C,DE115C,DE116C,DE117C,DE118C,DE119C,DE120C,DE121C,DE122C,DE123C,DE124C,DE125C,EE,EE001C,EE002C,EE003C,EL,EL001C,EL002C,EL003C,EL004C,EL005C,EL006C,EL007C,EL008C,EL009C,ES,ES001C,ES002C,ES003C,ES004C,ES005C,ES006C,ES007C,ES008C,ES009C,ES010C,ES011C,ES012C,ES013C,ES014C,ES015C,ES016C,ES017C,ES018C,ES020C,ES021C,ES022C,ES023C,ES024C,ES025C,ES026C,ES027C,ES028C,ES029C,ES030C,ES031C,ES032C,ES033C,ES034C,ES035C,ES036C,ES037C,ES038C,ES039C,ES040C,ES041C,ES042C,ES043C,ES044C,ES045C,ES046C,ES047C,ES048C,ES049C,ES050C,ES051C,ES052C,ES053C,ES054C,ES055C,ES056C,ES057C,ES058C,ES059C,ES060C,ES061C,ES062C,ES063C,ES064C,ES065C,ES066C,ES067C,ES068C,ES069C,ES070C,ES071C,ES072C,ES073C,ES074C,ES075C,ES076C,ES077C,ES078C,ES079C,ES080C,ES081C,ES082C,ES083C,ES084C,ES085C,ES086C,ES087C,ES088C,ES089C,ES090C,ES091C,ES092C,ES093C,ES094C,ES095C,ES096C,ES097C,ES098C,FR,FR001C,FR002C,FR003C,FR004C,FR005C,FR006C,FR007C,FR008C,FR009C,FR010C,FR011C,FR012C,FR013C,FR014C,FR015C,FR016C,FR017C,FR018C,FR019C,FR020C,FR021C,FR022C,FR023C,FR024C,FR025C,FR026C,FR027C,FR028C,FR029C,FR030C,FR031C,FR032C,FR033C,FR034C,FR035C,FR036C,FR037C,FR038C,FR039C,FR040C,FR041C,FR042C,FR043C,FR044C,FR045C,FR046C,FR047C,FR048C,FR049C,FR050C,FR051C,FR052C,FR053C,FR054C,FR055C,FR056C,FR057C,FR058C,FR059C,FR060C,FR061C,FR062C,FR063C,FR064C,FR065C,FR066C,FR067C,FR068C,FR069C,FR070C,FR071C,FR072C,FR073C,FR074C,FR075C,FR076C,FR077C,HR001C,HR002C,HR003C,HR004C,HR005C,HR006C,HR007C,IT,IT001C,IT002C,IT003C,IT004C,IT005C,IT006C,IT007C,IT008C,IT009C,IT010C,IT011C,IT012C,IT013C,IT014C,IT015C,IT016C,IT017C,IT018C,IT019C,IT020C,IT021C,IT022C,IT023C,IT024C,IT025C,IT026C,IT027C,IT028C,IT029C,IT030C,IT031C,IT032C,IT033C,IT034C,IT035C,IT036C,IT037C,IT038C,IT039C,IT040C,IT041C,IT042C,IT043C,IT044C,IT045C,IT046C,IT047C,IT048C,IT049C,IT050C,IT051C,IT052C,IT053C,IT054C,IT055C,IT056C,IT057C,IT058C,IT059C,IT060C,IT061C,IT062C,IT063C,IT064C,IT065C,IT066C,IT067C,IT068C,IT069C,IT070C,IT071C,IT072C,IT073C,IT074C,IT075C,IT076C,IT077C,IT078C,IT079C,IT080C,IT081C,IT082C,IT083C,IT084C,IT085C,IT086C,IT087C,CY,CY001C,LV,LV001C,LV002C,LV003C,LV004C,LT,LT001C,LT002C,LT003C,LT004C,LT005C,LT006C,LU,LU001C,HU,HU001C,HU002C,HU003C,HU004C,HU005C,HU006C,HU007C,HU008C,HU009C,HU010C,HU011C,HU012C,HU013C,HU014C,HU015C,HU016C,HU017C,HU018C,HU019C,MT,MT001C,NL,NL001C,NL002C,NL003C,NL004C,NL005C,NL006C,NL007C,NL008C,NL009C,NL010C,NL011C,NL012C,NL013C,NL014C,NL015C,NL016C,NL017C,NL018C,NL019C,NL020C,NL021C,NL022C,NL023C,NL024C,NL025C,NL026C,NL027C,NL028C,NL029C,NL030C,NL031C,NL032C,NL033C,NL034C,NL035C,NL036C,NL037C,NL038C,NL039C,NL040C,NL041C,NL042C,NL043C,NL044C,NL045C,NL046C,NL047C,AT,AT001C,AT002C,AT003C,AT004C,AT005C,PL,PL001C,PL002C,PL003C,PL004C,PL005C,PL006C,PL007C,PL008C,PL009C,PL010C,PL011C,PL012C,PL013C,PL014C,PL015C,PL016C,PL017C,PL018C,PL019C,PL020C,PL021C,PL022C,PL023C,PL024C,PL025C,PL026C,PL027C,PL028C,PL029C,PL030C,PL031C,PL032C,PL033C,PL034C,PL035C,PL036C,PL037C,PL038C,PL039C,PL040C,PL041C,PL042C,PL043C,PL044C,PL045C,PL046C,PL047C,PL048C,PL049C,PL050C,PL051C,PL052C,PL053C,PL054C,PL055C,PL056C,PL057C,PL058C,PL059C,PL060C,PL061C,PL062C,PL063C,PL064C,PL065C,PL066C,PL067C,PL068C,PT,PT001C,PT002C,PT003C,PT004C,PT005C,PT006C,PT007C,PT008C,PT009C,PT010C,PT011C,PT012C,PT013C,PT014C,PT015C,PT016C,RO,RO001C,RO002C,RO003C,RO004C,RO005C,RO006C,RO007C,RO008C,RO009C,RO010C,RO011C,RO012C,RO013C,RO014C,RO015C,RO016C,RO017C,RO018C,RO019C,RO020C,RO021C,RO022C,RO023C,RO024C,RO025C,RO026C,RO027C,RO028C,RO029C,RO030C,RO031C,RO032C,RO033C,RO034C,RO035C,SI,SI001C,SI002C,SK,SK001C,SK002C,SK003C,SK004C,SK005C,SK006C,SK007C,SK008C,FI,FI001C,FI002C,FI003C,FI004C,FI005C,FI006C,FI007C,FI008C,FI009C,SE,SE001C,SE002C,SE003C,SE004C,SE005C,SE006C,SE007C,SE008C,SE010C,SE011C,SE012C,SE013C,SE014C,NO,NO001C,NO002C,NO003C,NO004C,CH,CH001C,CH002C,CH003C,CH004C,CH005C,CH006C,CH007C,CH008C,CH009C,UK,UK001C,UK002C,UK003C,UK004C,UK005C,UK006C,UK007C,UK008C,UK009C,UK010C,UK011C,UK012C,UK013C,UK014C,UK015C,UK016C,UK017C,UK018C,UK019C,UK020C,UK021C,UK022C,UK023C,UK024C,UK025C,UK026C,UK027C,UK028C,UK029C,UK030C,UK031C,UK032C,UK033C,UK034C,UK035C,UK036C,UK037C,UK038C,UK039C,UK040C,UK041C,UK042C,UK043C,UK044C,UK045C,UK046C,UK047C,UK048C,UK049C,UK050C,UK051C,UK052C,UK053C,UK054C,UK055C,UK056C,UK057C,UK058C,UK059C,UK060C,UK061C,UK062C,UK063C,UK064C,UK065C,UK066C,UK067C,UK068C,UK069C,UK070C,UK071C,UK072C,UK073C,UK074C,UK075C,UK076C,UK077C,UK078C,UK079C,UK080C,UK081C,UK082C,UK083C,UK084C,UK085C,UK086C,UK087C,UK088C,UK089C,UK090C,UK091C,UK092C,UK093C,UK094C,UK095C,UK096C,UK097C,UK098C,UK099C,UK100C,UK101C,UK102C,UK103C,UK104C,UK105C,UK106C,UK107C,UK108C,UK109C,UK110C,UK111C,UK112C,UK113C,UK114C,UK115C,UK116C,UK117C,UK118C,UK119C,UK120C,UK121C,UK122C,UK123C,UK124C,UK125C,UK126C,UK127C,UK128C,UK129C,UK130C,UK131C,UK132C,UK133C,UK134C,UK135C,TR001C,TR002C,TR003C,TR004C,TR005C,TR006C,TR007C,TR008C,TR009C,TR010C,TR011C,TR012C,TR013C,TR014C,TR015C,TR016C,TR017C,TR018C,TR019C,TR020C,TR021C,TR022C,TR023C,TR024C,TR025C,TR026C&c[TIME_PERIOD]=2022,2021,2020,2019,2018,2017,2016,2015,2014,2013,2012,2011,2010,2009,2008,2007,2006,2005,2004,2003,2002,2001,2000,1999,1998,1997,1996,1995,1994,1993,1992,1991&compress=false&format=csvdata&formatVersion=2.0&lang=en&labels=name\"\n",
    "df = pd.read_csv(url)\n",
    "df.to_csv(\"./cefi.csv\", index=False)\n"
   ],
   "id": "95dbb99b2a2f048e",
   "outputs": [],
   "execution_count": 28
  },
  {
   "metadata": {},
   "cell_type": "code",
   "outputs": [],
   "execution_count": null,
   "source": "",
   "id": "fd41a94bb6995680"
  },
  {
   "metadata": {
    "ExecuteTime": {
     "end_time": "2025-04-15T14:31:45.638620Z",
     "start_time": "2025-04-15T14:31:45.612737Z"
    }
   },
   "cell_type": "code",
   "source": [
    "df = pd.read_csv(\"./cefi.csv\")\n",
    "df[~df[\"OBS_VALUE\"].isna()]\n",
    "\n",
    "df = df.rename(columns={\"OBS_VALUE\": \"enterprises\", \"cities\": \"city\", \"TIME_PERIOD\": \"year\"})\n",
    "\n",
    "df = df[[\"enterprises\", \"city\", \"year\", \"indic_ur\"]]\n",
    "\n",
    "df.to_csv(\"./clean_cefi.csv\", index=False)"
   ],
   "id": "1e4aa50338d88a49",
   "outputs": [],
   "execution_count": 52
  },
  {
   "metadata": {
    "ExecuteTime": {
     "end_time": "2025-04-15T14:39:27.137116Z",
     "start_time": "2025-04-15T14:39:21.936322Z"
    }
   },
   "cell_type": "code",
   "source": [
    "df = pd.read_csv(\"https://ec.europa.eu/eurostat/api/dissemination/sdmx/3.0/data/dataflow/ESTAT/tour_lfs1r2$defaultview/1.0?compress=false&format=csvdata&formatVersion=2.0&lang=en&labels=name\")\n",
    "\n",
    "print(df.columns)\n",
    "\n",
    "print(df.head())\n"
   ],
   "id": "df4d5716a10f5b47",
   "outputs": [
    {
     "name": "stdout",
     "output_type": "stream",
     "text": [
      "Index(['STRUCTURE', 'STRUCTURE_ID', 'STRUCTURE_NAME', 'freq', 'Time frequency',\n",
      "       'nace_r2',\n",
      "       'Statistical classification of economic activities in the European Community (NACE Rev. 2)',\n",
      "       'wstatus', 'Labour force and employment status', 'worktime',\n",
      "       'Working time', 'unit', 'Unit of measure', 'geo',\n",
      "       'Geopolitical entity (reporting)', 'TIME_PERIOD', 'Time', 'OBS_VALUE',\n",
      "       'Observation value', 'OBS_FLAG',\n",
      "       'Observation status (Flag) V2 structure', 'CONF_STATUS',\n",
      "       'Confidentiality status (flag)'],\n",
      "      dtype='object')\n",
      "  STRUCTURE                        STRUCTURE_ID  \\\n",
      "0  dataflow  ESTAT:TOUR_LFS1R2$DEFAULTVIEW(1.0)   \n",
      "1  dataflow  ESTAT:TOUR_LFS1R2$DEFAULTVIEW(1.0)   \n",
      "2  dataflow  ESTAT:TOUR_LFS1R2$DEFAULTVIEW(1.0)   \n",
      "3  dataflow  ESTAT:TOUR_LFS1R2$DEFAULTVIEW(1.0)   \n",
      "4  dataflow  ESTAT:TOUR_LFS1R2$DEFAULTVIEW(1.0)   \n",
      "\n",
      "                                      STRUCTURE_NAME freq Time frequency  \\\n",
      "0  Employed persons by full-time/part-time activi...    A         Annual   \n",
      "1  Employed persons by full-time/part-time activi...    A         Annual   \n",
      "2  Employed persons by full-time/part-time activi...    A         Annual   \n",
      "3  Employed persons by full-time/part-time activi...    A         Annual   \n",
      "4  Employed persons by full-time/part-time activi...    A         Annual   \n",
      "\n",
      "  nace_r2  \\\n",
      "0     H51   \n",
      "1     H51   \n",
      "2     H51   \n",
      "3     H51   \n",
      "4     H51   \n",
      "\n",
      "  Statistical classification of economic activities in the European Community (NACE Rev. 2)  \\\n",
      "0                                      Air transport                                          \n",
      "1                                      Air transport                                          \n",
      "2                                      Air transport                                          \n",
      "3                                      Air transport                                          \n",
      "4                                      Air transport                                          \n",
      "\n",
      "  wstatus Labour force and employment status worktime  ...   geo  \\\n",
      "0    CFAM        Contributing family workers       FT  ...  EA20   \n",
      "1    CFAM        Contributing family workers       FT  ...  EA20   \n",
      "2    CFAM        Contributing family workers       FT  ...  EA20   \n",
      "3    CFAM        Contributing family workers       FT  ...  EA20   \n",
      "4    CFAM        Contributing family workers       FT  ...  EA20   \n",
      "\n",
      "        Geopolitical entity (reporting) TIME_PERIOD Time OBS_VALUE  \\\n",
      "0  Euro area – 20 countries (from 2023)        2016  NaN       NaN   \n",
      "1  Euro area – 20 countries (from 2023)        2017  NaN       NaN   \n",
      "2  Euro area – 20 countries (from 2023)        2019  NaN       NaN   \n",
      "3  Euro area – 20 countries (from 2023)        2023  NaN       NaN   \n",
      "4  Euro area – 20 countries (from 2023)        2024  NaN       NaN   \n",
      "\n",
      "   Observation value  OBS_FLAG  Observation status (Flag) V2 structure  \\\n",
      "0                NaN         u                         low reliability   \n",
      "1                NaN         u                         low reliability   \n",
      "2                NaN         u                         low reliability   \n",
      "3                NaN         u                         low reliability   \n",
      "4                NaN         u                         low reliability   \n",
      "\n",
      "   CONF_STATUS Confidentiality status (flag)  \n",
      "0          NaN                           NaN  \n",
      "1          NaN                           NaN  \n",
      "2          NaN                           NaN  \n",
      "3          NaN                           NaN  \n",
      "4          NaN                           NaN  \n",
      "\n",
      "[5 rows x 23 columns]\n"
     ]
    }
   ],
   "execution_count": 56
  },
  {
   "metadata": {
    "ExecuteTime": {
     "end_time": "2025-04-15T19:42:36.330697Z",
     "start_time": "2025-04-15T19:42:36.305487Z"
    }
   },
   "cell_type": "code",
   "source": "pd.DataFrame([{}])",
   "id": "68e3642ccb21f82d",
   "outputs": [
    {
     "data": {
      "text/plain": [
       "Empty DataFrame\n",
       "Columns: []\n",
       "Index: [0]"
      ],
      "text/html": [
       "<div>\n",
       "<style scoped>\n",
       "    .dataframe tbody tr th:only-of-type {\n",
       "        vertical-align: middle;\n",
       "    }\n",
       "\n",
       "    .dataframe tbody tr th {\n",
       "        vertical-align: top;\n",
       "    }\n",
       "\n",
       "    .dataframe thead th {\n",
       "        text-align: right;\n",
       "    }\n",
       "</style>\n",
       "<table border=\"1\" class=\"dataframe\">\n",
       "  <thead>\n",
       "    <tr style=\"text-align: right;\">\n",
       "      <th></th>\n",
       "    </tr>\n",
       "  </thead>\n",
       "  <tbody>\n",
       "    <tr>\n",
       "      <th>0</th>\n",
       "    </tr>\n",
       "  </tbody>\n",
       "</table>\n",
       "</div>"
      ]
     },
     "execution_count": 57,
     "metadata": {},
     "output_type": "execute_result"
    }
   ],
   "execution_count": 57
  },
  {
   "metadata": {
    "ExecuteTime": {
     "end_time": "2025-04-15T22:33:45.147395Z",
     "start_time": "2025-04-15T22:33:28.210701Z"
    }
   },
   "cell_type": "code",
   "source": [
    "\n",
    "df = pd.read_csv(\"https://ec.europa.eu/eurostat/api/dissemination/sdmx/3.0/data/dataflow/ESTAT/tour_dem_extotw/1.0/*.*.*.*.*.*.*.*?c[freq]=A&c[purpose]=PER,PROF&c[duration]=N_GE1,N1-3,N_GE4&c[c_dest]=BE,DK,DE,EL,ES,FR,HR,IT,LU,NL,AT,PL,PT,RO,SI,FI,SE,IS,NO,CH,UK&c[expend]=TOTXDUR,TRA,REST,ACCOM,TRP_OTH,DUR,PACK_ARR&c[statinfo]=AVG_TRP,AVG_NGT&c[unit]=EUR&c[geo]=BE,BG,CZ,DK,DE,EE,IE,EL,ES,FR,HR,IT,CY,LV,LT,LU,HU,MT,NL,AT,PL,PT,RO,SI,SK,FI,SE,NO,CH,UK,ME,MK,AL,RS&c[TIME_PERIOD]=2023,2022,2021,2020,2019,2018,2017,2016,2015,2014,2013,2012&compress=false&format=csvdata&formatVersion=2.0&lang=en&labels=name\")"
   ],
   "id": "f6461af1939d0e70",
   "outputs": [],
   "execution_count": 58
  },
  {
   "metadata": {
    "ExecuteTime": {
     "end_time": "2025-04-15T22:34:36.229305Z",
     "start_time": "2025-04-15T22:34:36.225275Z"
    }
   },
   "cell_type": "code",
   "source": [
    "ndf = df\n",
    "df.columns"
   ],
   "id": "13734fe3695a678b",
   "outputs": [
    {
     "data": {
      "text/plain": [
       "Index(['STRUCTURE', 'STRUCTURE_ID', 'STRUCTURE_NAME', 'freq', 'Time frequency',\n",
       "       'purpose', 'Purpose', 'duration', 'Duration', 'c_dest',\n",
       "       'Country of destination', 'expend', 'Expenditure and investment',\n",
       "       'statinfo', 'Statistical information', 'unit', 'Unit of measure', 'geo',\n",
       "       'Geopolitical entity (reporting)', 'TIME_PERIOD', 'Time', 'OBS_VALUE',\n",
       "       'Observation value', 'OBS_FLAG',\n",
       "       'Observation status (Flag) V2 structure', 'CONF_STATUS',\n",
       "       'Confidentiality status (flag)'],\n",
       "      dtype='object')"
      ]
     },
     "execution_count": 60,
     "metadata": {},
     "output_type": "execute_result"
    }
   ],
   "execution_count": 60
  },
  {
   "metadata": {
    "ExecuteTime": {
     "end_time": "2025-04-15T22:45:26.841490Z",
     "start_time": "2025-04-15T22:45:02.189549Z"
    }
   },
   "cell_type": "code",
   "source": [
    "df = pd.read_csv(\"https://ec.europa.eu/eurostat/api/dissemination/sdmx/3.0/data/dataflow/ESTAT/tour_dem_extotw/1.0/*.*.*.*.*.*.*.*?c[freq]=A&c[purpose]=PER,PROF&c[duration]=N_GE1,N1-3,N_GE4&c[c_dest]=BE,DK,DE,EL,ES,FR,HR,IT,LU,NL,AT,PL,PT,RO,SI,FI,SE,IS,NO,CH,UK&c[expend]=TOTXDUR,TRA,REST,ACCOM,TRP_OTH,DUR,PACK_ARR&c[statinfo]=AVG_TRP,AVG_NGT&c[unit]=EUR&c[geo]=BE,BG,CZ,DK,DE,EE,IE,EL,ES,FR,HR,IT,CY,LV,LT,LU,HU,MT,NL,AT,PL,PT,RO,SI,SK,FI,SE,NO,CH,UK,ME,MK,AL,RS&c[TIME_PERIOD]=2023,2022,2021,2020,2019,2018,2017,2016,2015,2014,2013,2012&compress=false&format=csvdata&formatVersion=2.0&lang=en&labels=name\")\n",
    "df = df.drop(columns=[\"STRUCTURE\", \"STRUCTURE_ID\", \"STRUCTURE_NAME\", \"freq\", \"Time frequency\", \"Observation value\", \"OBS_FLAG\", \"Observation status (Flag) V2 structure\", \"CONF_STATUS\", \"Confidentiality status (flag)\", \"Time\", \"unit\", \"Unit of measure\"])\n",
    "\n",
    "df = df.rename(columns={\"geo\": \"country\", \"OBS_VALUE\": \"amount\", \"TIME_PERIOD\": \"year\", \"Country of destination\": \"destination_country\", \"Geopolitical entity (reporting)\": \"country_name\", \"Expenditure and investment\": \"expenditure_and_investment\"})\n",
    "\n",
    "df.columns"
   ],
   "id": "a34805d0927315b3",
   "outputs": [
    {
     "data": {
      "text/plain": [
       "Index(['purpose', 'Purpose', 'duration', 'Duration', 'c_dest',\n",
       "       'destination_country', 'expend', 'expenditure_and_investment',\n",
       "       'statinfo', 'Statistical information', 'country', 'country_name',\n",
       "       'year', 'amount'],\n",
       "      dtype='object')"
      ]
     },
     "execution_count": 78,
     "metadata": {},
     "output_type": "execute_result"
    }
   ],
   "execution_count": 78
  },
  {
   "metadata": {
    "ExecuteTime": {
     "end_time": "2025-04-15T22:36:40.238595Z",
     "start_time": "2025-04-15T22:36:40.142964Z"
    }
   },
   "cell_type": "code",
   "source": "df.info()",
   "id": "ae65fd282ab2bf29",
   "outputs": [
    {
     "name": "stdout",
     "output_type": "stream",
     "text": [
      "<class 'pandas.core.frame.DataFrame'>\n",
      "RangeIndex: 416726 entries, 0 to 416725\n",
      "Data columns (total 17 columns):\n",
      " #   Column                           Non-Null Count   Dtype  \n",
      "---  ------                           --------------   -----  \n",
      " 0   purpose                          416726 non-null  object \n",
      " 1   Purpose                          416726 non-null  object \n",
      " 2   duration                         416726 non-null  object \n",
      " 3   Duration                         416726 non-null  object \n",
      " 4   c_dest                           416726 non-null  object \n",
      " 5   Country of destination           416726 non-null  object \n",
      " 6   expend                           416726 non-null  object \n",
      " 7   Expenditure and investment       416726 non-null  object \n",
      " 8   statinfo                         416726 non-null  object \n",
      " 9   Statistical information          416726 non-null  object \n",
      " 10  unit                             416726 non-null  object \n",
      " 11  Unit of measure                  416726 non-null  object \n",
      " 12  geo                              416726 non-null  object \n",
      " 13  Geopolitical entity (reporting)  416726 non-null  object \n",
      " 14  TIME_PERIOD                      416726 non-null  int64  \n",
      " 15  Time                             0 non-null       float64\n",
      " 16  OBS_VALUE                        156604 non-null  float64\n",
      "dtypes: float64(2), int64(1), object(14)\n",
      "memory usage: 54.0+ MB\n"
     ]
    }
   ],
   "execution_count": 62
  },
  {
   "metadata": {
    "ExecuteTime": {
     "end_time": "2025-04-15T22:44:46.380645Z",
     "start_time": "2025-04-15T22:44:46.373556Z"
    }
   },
   "cell_type": "code",
   "source": "df.head()",
   "id": "b41f059f16cf506a",
   "outputs": [
    {
     "data": {
      "text/plain": [
       "  purpose           Purpose duration            Duration c_dest  \\\n",
       "0     PER  Personal reasons     N1-3  From 1 to 3 nights     AT   \n",
       "1     PER  Personal reasons     N1-3  From 1 to 3 nights     AT   \n",
       "2     PER  Personal reasons     N1-3  From 1 to 3 nights     AT   \n",
       "3     PER  Personal reasons     N1-3  From 1 to 3 nights     AT   \n",
       "4     PER  Personal reasons     N1-3  From 1 to 3 nights     AT   \n",
       "\n",
       "  destination_country expend    expenditure_and_investment statinfo  \\\n",
       "0             Austria  ACCOM  Expenditure on accommodation  AVG_NGT   \n",
       "1             Austria  ACCOM  Expenditure on accommodation  AVG_NGT   \n",
       "2             Austria  ACCOM  Expenditure on accommodation  AVG_NGT   \n",
       "3             Austria  ACCOM  Expenditure on accommodation  AVG_NGT   \n",
       "4             Austria  ACCOM  Expenditure on accommodation  AVG_NGT   \n",
       "\n",
       "  Statistical information country country_name  year  amount  \n",
       "0       Average per night      AL      Albania  2019   22.22  \n",
       "1       Average per night      AT      Austria  2012   66.02  \n",
       "2       Average per night      AT      Austria  2013   50.64  \n",
       "3       Average per night      AT      Austria  2014   46.01  \n",
       "4       Average per night      AT      Austria  2015   51.48  "
      ],
      "text/html": [
       "<div>\n",
       "<style scoped>\n",
       "    .dataframe tbody tr th:only-of-type {\n",
       "        vertical-align: middle;\n",
       "    }\n",
       "\n",
       "    .dataframe tbody tr th {\n",
       "        vertical-align: top;\n",
       "    }\n",
       "\n",
       "    .dataframe thead th {\n",
       "        text-align: right;\n",
       "    }\n",
       "</style>\n",
       "<table border=\"1\" class=\"dataframe\">\n",
       "  <thead>\n",
       "    <tr style=\"text-align: right;\">\n",
       "      <th></th>\n",
       "      <th>purpose</th>\n",
       "      <th>Purpose</th>\n",
       "      <th>duration</th>\n",
       "      <th>Duration</th>\n",
       "      <th>c_dest</th>\n",
       "      <th>destination_country</th>\n",
       "      <th>expend</th>\n",
       "      <th>expenditure_and_investment</th>\n",
       "      <th>statinfo</th>\n",
       "      <th>Statistical information</th>\n",
       "      <th>country</th>\n",
       "      <th>country_name</th>\n",
       "      <th>year</th>\n",
       "      <th>amount</th>\n",
       "    </tr>\n",
       "  </thead>\n",
       "  <tbody>\n",
       "    <tr>\n",
       "      <th>0</th>\n",
       "      <td>PER</td>\n",
       "      <td>Personal reasons</td>\n",
       "      <td>N1-3</td>\n",
       "      <td>From 1 to 3 nights</td>\n",
       "      <td>AT</td>\n",
       "      <td>Austria</td>\n",
       "      <td>ACCOM</td>\n",
       "      <td>Expenditure on accommodation</td>\n",
       "      <td>AVG_NGT</td>\n",
       "      <td>Average per night</td>\n",
       "      <td>AL</td>\n",
       "      <td>Albania</td>\n",
       "      <td>2019</td>\n",
       "      <td>22.22</td>\n",
       "    </tr>\n",
       "    <tr>\n",
       "      <th>1</th>\n",
       "      <td>PER</td>\n",
       "      <td>Personal reasons</td>\n",
       "      <td>N1-3</td>\n",
       "      <td>From 1 to 3 nights</td>\n",
       "      <td>AT</td>\n",
       "      <td>Austria</td>\n",
       "      <td>ACCOM</td>\n",
       "      <td>Expenditure on accommodation</td>\n",
       "      <td>AVG_NGT</td>\n",
       "      <td>Average per night</td>\n",
       "      <td>AT</td>\n",
       "      <td>Austria</td>\n",
       "      <td>2012</td>\n",
       "      <td>66.02</td>\n",
       "    </tr>\n",
       "    <tr>\n",
       "      <th>2</th>\n",
       "      <td>PER</td>\n",
       "      <td>Personal reasons</td>\n",
       "      <td>N1-3</td>\n",
       "      <td>From 1 to 3 nights</td>\n",
       "      <td>AT</td>\n",
       "      <td>Austria</td>\n",
       "      <td>ACCOM</td>\n",
       "      <td>Expenditure on accommodation</td>\n",
       "      <td>AVG_NGT</td>\n",
       "      <td>Average per night</td>\n",
       "      <td>AT</td>\n",
       "      <td>Austria</td>\n",
       "      <td>2013</td>\n",
       "      <td>50.64</td>\n",
       "    </tr>\n",
       "    <tr>\n",
       "      <th>3</th>\n",
       "      <td>PER</td>\n",
       "      <td>Personal reasons</td>\n",
       "      <td>N1-3</td>\n",
       "      <td>From 1 to 3 nights</td>\n",
       "      <td>AT</td>\n",
       "      <td>Austria</td>\n",
       "      <td>ACCOM</td>\n",
       "      <td>Expenditure on accommodation</td>\n",
       "      <td>AVG_NGT</td>\n",
       "      <td>Average per night</td>\n",
       "      <td>AT</td>\n",
       "      <td>Austria</td>\n",
       "      <td>2014</td>\n",
       "      <td>46.01</td>\n",
       "    </tr>\n",
       "    <tr>\n",
       "      <th>4</th>\n",
       "      <td>PER</td>\n",
       "      <td>Personal reasons</td>\n",
       "      <td>N1-3</td>\n",
       "      <td>From 1 to 3 nights</td>\n",
       "      <td>AT</td>\n",
       "      <td>Austria</td>\n",
       "      <td>ACCOM</td>\n",
       "      <td>Expenditure on accommodation</td>\n",
       "      <td>AVG_NGT</td>\n",
       "      <td>Average per night</td>\n",
       "      <td>AT</td>\n",
       "      <td>Austria</td>\n",
       "      <td>2015</td>\n",
       "      <td>51.48</td>\n",
       "    </tr>\n",
       "  </tbody>\n",
       "</table>\n",
       "</div>"
      ]
     },
     "execution_count": 77,
     "metadata": {},
     "output_type": "execute_result"
    }
   ],
   "execution_count": 77
  },
  {
   "metadata": {
    "ExecuteTime": {
     "end_time": "2025-04-16T20:35:41.449319Z",
     "start_time": "2025-04-16T20:35:41.444206Z"
    }
   },
   "cell_type": "code",
   "source": [
    "def read_http(http_url) -> pd.DataFrame:\n",
    "    response = requests.get(http_url)\n",
    "    content = response.text\n",
    "    content = content.replace(\"\\t\", \",\").replace(\",:\", \"\")\n",
    "    return pd.read_csv(StringIO(content), delimiter=\",\")"
   ],
   "id": "fe84fdac25a3af58",
   "outputs": [],
   "execution_count": 97
  },
  {
   "metadata": {
    "ExecuteTime": {
     "end_time": "2025-04-16T20:40:53.501966Z",
     "start_time": "2025-04-16T20:40:53.499271Z"
    }
   },
   "cell_type": "code",
   "source": [
    "import re\n",
    "\n",
    "\n",
    "def remove_alphabets(value: str) -> str:\n",
    "    if isinstance(value, str):\n",
    "        result = re.findall(r'^[0-9]+', value)\n",
    "        return result[0] if result else '0'\n",
    "    return value"
   ],
   "id": "887e5c5f18845d0f",
   "outputs": [],
   "execution_count": 102
  },
  {
   "metadata": {
    "ExecuteTime": {
     "end_time": "2025-04-16T20:35:43.744228Z",
     "start_time": "2025-04-16T20:35:43.369235Z"
    }
   },
   "cell_type": "code",
   "source": "df = read_http(\"https://ec.europa.eu/eurostat/api/dissemination/sdmx/2.1/data/urb_cecfi?format=TSV\")\n",
   "id": "73b5f2b92c0abb4d",
   "outputs": [
    {
     "data": {
      "text/plain": [
       "     freq indic_ur                cities\\TIME_PERIOD                  1991   \\\n",
       "0       A  EC2021V               AT                   300745                  \n",
       "1       A  EC2021V                       AT001C                  87071        \n",
       "2       A  EC2021V           AT002C                   10647 d                 \n",
       "3       A  EC2021V                  AT003C                     10932          \n",
       "4       A  EC2021V           AT004C                    7622 d                 \n",
       "...   ...      ...                               ...                    ...   \n",
       "1331    A  EC2039V    UK131C                                          2305    \n",
       "1332    A  EC2039V    UK132C                                          4150    \n",
       "1333    A  EC2039V   UK133C                                           2180    \n",
       "1334    A  EC2039V   UK134C                                           6015    \n",
       "1335    A  EC2039V  UK135C                                           6090 d   \n",
       "\n",
       "                     1992                   1993        1994  1995  1996   \\\n",
       "0                      NaN                    NaN         NaN   NaN   NaN   \n",
       "1             90484         70660 d                       NaN   NaN   NaN   \n",
       "2                      NaN                    NaN         NaN   NaN   NaN   \n",
       "3     6896 d                                  NaN         NaN   NaN   NaN   \n",
       "4                      NaN                    NaN         NaN   NaN   NaN   \n",
       "...                    ...                    ...         ...   ...   ...   \n",
       "1331                 2470                  2685 d  2780 d       NaN   NaN   \n",
       "1332                 4305                  4490 d  4315 d       NaN   NaN   \n",
       "1333                2210 d             2175 d             NaN   NaN   NaN   \n",
       "1334                6130 d             6175 d             NaN   NaN   NaN   \n",
       "1335            6285 d                        NaN         NaN   NaN   NaN   \n",
       "\n",
       "     1997   ... 2013  2014  2015  2016  2017  2018  2019   2020   2021   2022   \n",
       "0      NaN  ...   NaN   NaN   NaN   NaN   NaN   NaN   NaN    NaN    NaN    NaN  \n",
       "1      NaN  ...   NaN   NaN   NaN   NaN   NaN   NaN   NaN    NaN    NaN    NaN  \n",
       "2      NaN  ...   NaN   NaN   NaN   NaN   NaN   NaN   NaN    NaN    NaN    NaN  \n",
       "3      NaN  ...   NaN   NaN   NaN   NaN   NaN   NaN   NaN    NaN    NaN    NaN  \n",
       "4      NaN  ...   NaN   NaN   NaN   NaN   NaN   NaN   NaN    NaN    NaN    NaN  \n",
       "...    ...  ...   ...   ...   ...   ...   ...   ...   ...    ...    ...    ...  \n",
       "1331   NaN  ...   NaN   NaN   NaN   NaN   NaN   NaN   NaN    NaN    NaN    NaN  \n",
       "1332   NaN  ...   NaN   NaN   NaN   NaN   NaN   NaN   NaN    NaN    NaN    NaN  \n",
       "1333   NaN  ...   NaN   NaN   NaN   NaN   NaN   NaN   NaN    NaN    NaN    NaN  \n",
       "1334   NaN  ...   NaN   NaN   NaN   NaN   NaN   NaN   NaN    NaN    NaN    NaN  \n",
       "1335   NaN  ...   NaN   NaN   NaN   NaN   NaN   NaN   NaN    NaN    NaN    NaN  \n",
       "\n",
       "[1336 rows x 35 columns]"
      ],
      "text/html": [
       "<div>\n",
       "<style scoped>\n",
       "    .dataframe tbody tr th:only-of-type {\n",
       "        vertical-align: middle;\n",
       "    }\n",
       "\n",
       "    .dataframe tbody tr th {\n",
       "        vertical-align: top;\n",
       "    }\n",
       "\n",
       "    .dataframe thead th {\n",
       "        text-align: right;\n",
       "    }\n",
       "</style>\n",
       "<table border=\"1\" class=\"dataframe\">\n",
       "  <thead>\n",
       "    <tr style=\"text-align: right;\">\n",
       "      <th></th>\n",
       "      <th>freq</th>\n",
       "      <th>indic_ur</th>\n",
       "      <th>cities\\TIME_PERIOD</th>\n",
       "      <th>1991</th>\n",
       "      <th>1992</th>\n",
       "      <th>1993</th>\n",
       "      <th>1994</th>\n",
       "      <th>1995</th>\n",
       "      <th>1996</th>\n",
       "      <th>1997</th>\n",
       "      <th>...</th>\n",
       "      <th>2013</th>\n",
       "      <th>2014</th>\n",
       "      <th>2015</th>\n",
       "      <th>2016</th>\n",
       "      <th>2017</th>\n",
       "      <th>2018</th>\n",
       "      <th>2019</th>\n",
       "      <th>2020</th>\n",
       "      <th>2021</th>\n",
       "      <th>2022</th>\n",
       "    </tr>\n",
       "  </thead>\n",
       "  <tbody>\n",
       "    <tr>\n",
       "      <th>0</th>\n",
       "      <td>A</td>\n",
       "      <td>EC2021V</td>\n",
       "      <td>AT</td>\n",
       "      <td>300745</td>\n",
       "      <td>NaN</td>\n",
       "      <td>NaN</td>\n",
       "      <td>NaN</td>\n",
       "      <td>NaN</td>\n",
       "      <td>NaN</td>\n",
       "      <td>NaN</td>\n",
       "      <td>...</td>\n",
       "      <td>NaN</td>\n",
       "      <td>NaN</td>\n",
       "      <td>NaN</td>\n",
       "      <td>NaN</td>\n",
       "      <td>NaN</td>\n",
       "      <td>NaN</td>\n",
       "      <td>NaN</td>\n",
       "      <td>NaN</td>\n",
       "      <td>NaN</td>\n",
       "      <td>NaN</td>\n",
       "    </tr>\n",
       "    <tr>\n",
       "      <th>1</th>\n",
       "      <td>A</td>\n",
       "      <td>EC2021V</td>\n",
       "      <td>AT001C</td>\n",
       "      <td>87071</td>\n",
       "      <td>90484</td>\n",
       "      <td>70660 d</td>\n",
       "      <td>NaN</td>\n",
       "      <td>NaN</td>\n",
       "      <td>NaN</td>\n",
       "      <td>NaN</td>\n",
       "      <td>...</td>\n",
       "      <td>NaN</td>\n",
       "      <td>NaN</td>\n",
       "      <td>NaN</td>\n",
       "      <td>NaN</td>\n",
       "      <td>NaN</td>\n",
       "      <td>NaN</td>\n",
       "      <td>NaN</td>\n",
       "      <td>NaN</td>\n",
       "      <td>NaN</td>\n",
       "      <td>NaN</td>\n",
       "    </tr>\n",
       "    <tr>\n",
       "      <th>2</th>\n",
       "      <td>A</td>\n",
       "      <td>EC2021V</td>\n",
       "      <td>AT002C</td>\n",
       "      <td>10647 d</td>\n",
       "      <td>NaN</td>\n",
       "      <td>NaN</td>\n",
       "      <td>NaN</td>\n",
       "      <td>NaN</td>\n",
       "      <td>NaN</td>\n",
       "      <td>NaN</td>\n",
       "      <td>...</td>\n",
       "      <td>NaN</td>\n",
       "      <td>NaN</td>\n",
       "      <td>NaN</td>\n",
       "      <td>NaN</td>\n",
       "      <td>NaN</td>\n",
       "      <td>NaN</td>\n",
       "      <td>NaN</td>\n",
       "      <td>NaN</td>\n",
       "      <td>NaN</td>\n",
       "      <td>NaN</td>\n",
       "    </tr>\n",
       "    <tr>\n",
       "      <th>3</th>\n",
       "      <td>A</td>\n",
       "      <td>EC2021V</td>\n",
       "      <td>AT003C</td>\n",
       "      <td>10932</td>\n",
       "      <td>6896 d</td>\n",
       "      <td>NaN</td>\n",
       "      <td>NaN</td>\n",
       "      <td>NaN</td>\n",
       "      <td>NaN</td>\n",
       "      <td>NaN</td>\n",
       "      <td>...</td>\n",
       "      <td>NaN</td>\n",
       "      <td>NaN</td>\n",
       "      <td>NaN</td>\n",
       "      <td>NaN</td>\n",
       "      <td>NaN</td>\n",
       "      <td>NaN</td>\n",
       "      <td>NaN</td>\n",
       "      <td>NaN</td>\n",
       "      <td>NaN</td>\n",
       "      <td>NaN</td>\n",
       "    </tr>\n",
       "    <tr>\n",
       "      <th>4</th>\n",
       "      <td>A</td>\n",
       "      <td>EC2021V</td>\n",
       "      <td>AT004C</td>\n",
       "      <td>7622 d</td>\n",
       "      <td>NaN</td>\n",
       "      <td>NaN</td>\n",
       "      <td>NaN</td>\n",
       "      <td>NaN</td>\n",
       "      <td>NaN</td>\n",
       "      <td>NaN</td>\n",
       "      <td>...</td>\n",
       "      <td>NaN</td>\n",
       "      <td>NaN</td>\n",
       "      <td>NaN</td>\n",
       "      <td>NaN</td>\n",
       "      <td>NaN</td>\n",
       "      <td>NaN</td>\n",
       "      <td>NaN</td>\n",
       "      <td>NaN</td>\n",
       "      <td>NaN</td>\n",
       "      <td>NaN</td>\n",
       "    </tr>\n",
       "    <tr>\n",
       "      <th>...</th>\n",
       "      <td>...</td>\n",
       "      <td>...</td>\n",
       "      <td>...</td>\n",
       "      <td>...</td>\n",
       "      <td>...</td>\n",
       "      <td>...</td>\n",
       "      <td>...</td>\n",
       "      <td>...</td>\n",
       "      <td>...</td>\n",
       "      <td>...</td>\n",
       "      <td>...</td>\n",
       "      <td>...</td>\n",
       "      <td>...</td>\n",
       "      <td>...</td>\n",
       "      <td>...</td>\n",
       "      <td>...</td>\n",
       "      <td>...</td>\n",
       "      <td>...</td>\n",
       "      <td>...</td>\n",
       "      <td>...</td>\n",
       "      <td>...</td>\n",
       "    </tr>\n",
       "    <tr>\n",
       "      <th>1331</th>\n",
       "      <td>A</td>\n",
       "      <td>EC2039V</td>\n",
       "      <td>UK131C</td>\n",
       "      <td>2305</td>\n",
       "      <td>2470</td>\n",
       "      <td>2685 d</td>\n",
       "      <td>2780 d</td>\n",
       "      <td>NaN</td>\n",
       "      <td>NaN</td>\n",
       "      <td>NaN</td>\n",
       "      <td>...</td>\n",
       "      <td>NaN</td>\n",
       "      <td>NaN</td>\n",
       "      <td>NaN</td>\n",
       "      <td>NaN</td>\n",
       "      <td>NaN</td>\n",
       "      <td>NaN</td>\n",
       "      <td>NaN</td>\n",
       "      <td>NaN</td>\n",
       "      <td>NaN</td>\n",
       "      <td>NaN</td>\n",
       "    </tr>\n",
       "    <tr>\n",
       "      <th>1332</th>\n",
       "      <td>A</td>\n",
       "      <td>EC2039V</td>\n",
       "      <td>UK132C</td>\n",
       "      <td>4150</td>\n",
       "      <td>4305</td>\n",
       "      <td>4490 d</td>\n",
       "      <td>4315 d</td>\n",
       "      <td>NaN</td>\n",
       "      <td>NaN</td>\n",
       "      <td>NaN</td>\n",
       "      <td>...</td>\n",
       "      <td>NaN</td>\n",
       "      <td>NaN</td>\n",
       "      <td>NaN</td>\n",
       "      <td>NaN</td>\n",
       "      <td>NaN</td>\n",
       "      <td>NaN</td>\n",
       "      <td>NaN</td>\n",
       "      <td>NaN</td>\n",
       "      <td>NaN</td>\n",
       "      <td>NaN</td>\n",
       "    </tr>\n",
       "    <tr>\n",
       "      <th>1333</th>\n",
       "      <td>A</td>\n",
       "      <td>EC2039V</td>\n",
       "      <td>UK133C</td>\n",
       "      <td>2180</td>\n",
       "      <td>2210 d</td>\n",
       "      <td>2175 d</td>\n",
       "      <td>NaN</td>\n",
       "      <td>NaN</td>\n",
       "      <td>NaN</td>\n",
       "      <td>NaN</td>\n",
       "      <td>...</td>\n",
       "      <td>NaN</td>\n",
       "      <td>NaN</td>\n",
       "      <td>NaN</td>\n",
       "      <td>NaN</td>\n",
       "      <td>NaN</td>\n",
       "      <td>NaN</td>\n",
       "      <td>NaN</td>\n",
       "      <td>NaN</td>\n",
       "      <td>NaN</td>\n",
       "      <td>NaN</td>\n",
       "    </tr>\n",
       "    <tr>\n",
       "      <th>1334</th>\n",
       "      <td>A</td>\n",
       "      <td>EC2039V</td>\n",
       "      <td>UK134C</td>\n",
       "      <td>6015</td>\n",
       "      <td>6130 d</td>\n",
       "      <td>6175 d</td>\n",
       "      <td>NaN</td>\n",
       "      <td>NaN</td>\n",
       "      <td>NaN</td>\n",
       "      <td>NaN</td>\n",
       "      <td>...</td>\n",
       "      <td>NaN</td>\n",
       "      <td>NaN</td>\n",
       "      <td>NaN</td>\n",
       "      <td>NaN</td>\n",
       "      <td>NaN</td>\n",
       "      <td>NaN</td>\n",
       "      <td>NaN</td>\n",
       "      <td>NaN</td>\n",
       "      <td>NaN</td>\n",
       "      <td>NaN</td>\n",
       "    </tr>\n",
       "    <tr>\n",
       "      <th>1335</th>\n",
       "      <td>A</td>\n",
       "      <td>EC2039V</td>\n",
       "      <td>UK135C</td>\n",
       "      <td>6090 d</td>\n",
       "      <td>6285 d</td>\n",
       "      <td>NaN</td>\n",
       "      <td>NaN</td>\n",
       "      <td>NaN</td>\n",
       "      <td>NaN</td>\n",
       "      <td>NaN</td>\n",
       "      <td>...</td>\n",
       "      <td>NaN</td>\n",
       "      <td>NaN</td>\n",
       "      <td>NaN</td>\n",
       "      <td>NaN</td>\n",
       "      <td>NaN</td>\n",
       "      <td>NaN</td>\n",
       "      <td>NaN</td>\n",
       "      <td>NaN</td>\n",
       "      <td>NaN</td>\n",
       "      <td>NaN</td>\n",
       "    </tr>\n",
       "  </tbody>\n",
       "</table>\n",
       "<p>1336 rows × 35 columns</p>\n",
       "</div>"
      ]
     },
     "execution_count": 98,
     "metadata": {},
     "output_type": "execute_result"
    }
   ],
   "execution_count": 98
  },
  {
   "metadata": {
    "ExecuteTime": {
     "end_time": "2025-04-16T20:40:57.245184Z",
     "start_time": "2025-04-16T20:40:57.223331Z"
    }
   },
   "cell_type": "code",
   "source": [
    "df = df.rename(columns={\"cities\\\\TIME_PERIOD\": \"city\"})\n",
    "df = df.drop(\"freq\", axis=1)\n",
    "df_melted = df.melt(id_vars=['indic_ur', 'city'], var_name='year', value_name='enterprises')\n",
    "df_melted[\"enterprises\"] = df_melted[\"enterprises\"].apply(remove_alphabets)"
   ],
   "id": "dc4cf10af81bd930",
   "outputs": [],
   "execution_count": 103
  },
  {
   "metadata": {
    "ExecuteTime": {
     "end_time": "2025-04-16T20:42:05.157653Z",
     "start_time": "2025-04-16T20:42:05.152886Z"
    }
   },
   "cell_type": "code",
   "source": "df_melted.shape",
   "id": "a1293ff028b469c4",
   "outputs": [
    {
     "data": {
      "text/plain": [
       "(42752, 4)"
      ]
     },
     "execution_count": 105,
     "metadata": {},
     "output_type": "execute_result"
    }
   ],
   "execution_count": 105
  },
  {
   "metadata": {
    "ExecuteTime": {
     "end_time": "2025-04-16T20:43:02.371347Z",
     "start_time": "2025-04-16T20:43:02.357838Z"
    }
   },
   "cell_type": "code",
   "source": "df_melted.isnull().sum()",
   "id": "5ea06bd0c1a1d131",
   "outputs": [
    {
     "data": {
      "text/plain": [
       "indic_ur           0\n",
       "city               0\n",
       "year               0\n",
       "enterprises    33594\n",
       "dtype: int64"
      ]
     },
     "execution_count": 106,
     "metadata": {},
     "output_type": "execute_result"
    }
   ],
   "execution_count": 106
  },
  {
   "metadata": {
    "ExecuteTime": {
     "end_time": "2025-04-16T21:46:30.033804Z",
     "start_time": "2025-04-16T21:46:20.810295Z"
    }
   },
   "cell_type": "code",
   "source": [
    "df = pd.read_csv(\n",
    "        \"https://ec.europa.eu/eurostat/api/dissemination/sdmx/3.0/data/dataflow/ESTAT/tour_lfs1r2/1.0/*.*.*.*.*.*?c[freq]=A&c[nace_r2]=TOTAL,H51,I,I55,N79&c[wstatus]=EMP,SAL,SELF,CFAM,NRP&c[worktime]=TOTAL,PT,FT,NRP&c[unit]=THS_PER&c[geo]=EU27_2020,EA20,BE,BG,CZ,DK,DE,EE,IE,EL,ES,FR,HR,IT,CY,LV,LT,LU,HU,MT,NL,AT,PL,PT,RO,SI,SK,FI,SE,IS,NO,CH,UK,BA,ME,MK,RS,TR&c[TIME_PERIOD]=2024,2023,2022,2021,2020,2019,2018,2017,2016,2015,2014,2013,2012,2011,2010,2009,2008&compress=false&format=csvdata&formatVersion=2.0&lang=en&labels=name\")"
   ],
   "id": "3b1051c67e58fb2a",
   "outputs": [],
   "execution_count": 113
  },
  {
   "metadata": {
    "ExecuteTime": {
     "end_time": "2025-04-16T21:46:33.124578Z",
     "start_time": "2025-04-16T21:46:33.112841Z"
    }
   },
   "cell_type": "code",
   "source": [
    "df = df.rename(\n",
    "        columns={\"Geopolitical entity (reporting)\": \"country_name\", \"TIME_PERIOD\": \"year\", \"geo\": \"country_code\",\n",
    "                 \"Statistical classification of economic activities in the European Community (NACE Rev. 2)\": \"work_field\",\n",
    "                 \"Working time\": \"working_time\", \"OBS_VALUE\": \"employees_in_thousands\"})\n",
    "\n",
    "df = df.drop(columns=[\"STRUCTURE\", \"STRUCTURE_ID\", \"STRUCTURE_NAME\", \"freq\", \"Time frequency\", \"nace_r2\",\n",
    "                          \"Labour force and employment status\", \"Observation status (Flag) V2 structure\", \"CONF_STATUS\",\n",
    "                          \"Confidentiality status (flag)\", \"unit\", \"Unit of measure\", \"worktime\", \"wstatus\", \"Time\",\n",
    "                           \"Observation value\", \"OBS_FLAG\"])"
   ],
   "id": "3913ad3a7ba02223",
   "outputs": [],
   "execution_count": 114
  },
  {
   "metadata": {
    "ExecuteTime": {
     "end_time": "2025-04-16T21:50:56.367204Z",
     "start_time": "2025-04-16T21:50:56.357984Z"
    }
   },
   "cell_type": "code",
   "source": "df.groupby(by=[\"country_name\", \"year\", \"country_code\", \"work_field\", \"working_time\", \"employees_in_thousands\"])",
   "id": "b2c252c5acfccd58",
   "outputs": [
    {
     "data": {
      "text/plain": [
       "(33198, 6)"
      ]
     },
     "execution_count": 122,
     "metadata": {},
     "output_type": "execute_result"
    }
   ],
   "execution_count": 122
  }
 ],
 "metadata": {
  "kernelspec": {
   "name": "python3",
   "language": "python",
   "display_name": "Python 3 (ipykernel)"
  }
 },
 "nbformat": 5,
 "nbformat_minor": 9
}
