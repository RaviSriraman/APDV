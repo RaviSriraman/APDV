{
 "cells": [
  {
   "cell_type": "code",
   "id": "1027de231ee9c3a7",
   "metadata": {
    "ExecuteTime": {
     "end_time": "2025-04-09T12:05:09.647928Z",
     "start_time": "2025-04-09T12:05:09.644917Z"
    }
   },
   "source": [
    "from dash import Dash, html, dcc, callback, Output, Input, jupyter_dash\n",
    "import plotly.express as px\n",
    "import pandas as pd\n",
    "from flask_cors import CORS\n"
   ],
   "outputs": [],
   "execution_count": 16
  },
  {
   "cell_type": "code",
   "id": "fe8694351c9a6139",
   "metadata": {
    "ExecuteTime": {
     "end_time": "2025-04-09T12:05:09.653587Z",
     "start_time": "2025-04-09T12:05:09.652086Z"
    }
   },
   "source": [
    "jupyter_dash.inline_exceptions = False\n"
   ],
   "outputs": [],
   "execution_count": 17
  },
  {
   "cell_type": "code",
   "id": "e914024469bee34e",
   "metadata": {
    "ExecuteTime": {
     "end_time": "2025-04-09T12:05:10.380323Z",
     "start_time": "2025-04-09T12:05:09.659092Z"
    }
   },
   "source": [
    "df = pd.read_csv('https://raw.githubusercontent.com/plotly/datasets/master/gapminder_unfiltered.csv')"
   ],
   "outputs": [],
   "execution_count": 18
  },
  {
   "cell_type": "code",
   "id": "693be12424e5eefc",
   "metadata": {
    "ExecuteTime": {
     "end_time": "2025-04-09T12:05:10.407240Z",
     "start_time": "2025-04-09T12:05:10.388900Z"
    }
   },
   "source": [
    "app = Dash()\n",
    "server = app.server\n",
    "CORS(server)\n",
    "app.layout = [\n",
    "    html.H1(children='Title of Dash App', style={'textAlign':'center'}),\n",
    "    dcc.Dropdown(df.country.unique(), 'Canada', id='dropdown-selection'),\n",
    "    dcc.Graph(id='graph-content')\n",
    "]\n",
    "\n",
    "@callback(\n",
    "    Output('graph-content', 'figure'),\n",
    "    Input('dropdown-selection', 'value')\n",
    ")\n",
    "def update_graph(value):\n",
    "    dff = df[df.country==value]\n",
    "    return px.line(dff, x='year', y='pop')"
   ],
   "outputs": [],
   "execution_count": 19
  },
  {
   "cell_type": "code",
   "id": "f0535e92ef0d61c6",
   "metadata": {
    "ExecuteTime": {
     "end_time": "2025-04-09T12:05:10.788477Z",
     "start_time": "2025-04-09T12:05:10.413123Z"
    }
   },
   "source": "app.run(port=8060)\n",
   "outputs": [
    {
     "data": {
      "text/plain": [
       "<IPython.lib.display.IFrame at 0x11f83c8c0>"
      ],
      "text/html": [
       "\n",
       "        <iframe\n",
       "            width=\"100%\"\n",
       "            height=\"650\"\n",
       "            src=\"http://127.0.0.1:8060/\"\n",
       "            frameborder=\"0\"\n",
       "            allowfullscreen\n",
       "            \n",
       "        ></iframe>\n",
       "        "
      ]
     },
     "metadata": {},
     "output_type": "display_data"
    }
   ],
   "execution_count": 20
  }
 ],
 "metadata": {
  "kernelspec": {
   "display_name": "anaconda3",
   "language": "python",
   "name": "anaconda3"
  },
  "language_info": {
   "codemirror_mode": {
    "name": "ipython",
    "version": 3
   },
   "file_extension": ".py",
   "mimetype": "text/x-python",
   "name": "python",
   "nbconvert_exporter": "python",
   "pygments_lexer": "ipython3",
   "version": "3.12.9"
  }
 },
 "nbformat": 4,
 "nbformat_minor": 5
}
