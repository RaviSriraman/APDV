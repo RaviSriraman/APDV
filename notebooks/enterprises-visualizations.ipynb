{
 "cells": [
  {
   "cell_type": "code",
   "id": "96c27a69a54f51da",
   "metadata": {},
   "source": [
    "import pandas as pd\n",
    "import matplotlib.pyplot as plt\n",
    "import re\n",
    "import seaborn as sns\n",
    "import requests"
   ],
   "outputs": [],
   "execution_count": null
  },
  {
   "cell_type": "code",
   "id": "7f4e684643ef544a",
   "metadata": {},
   "source": [
    "def remove_alphabets(value: str):\n",
    "    if isinstance(value, str):\n",
    "        result = re.findall(r'^[0-9]+', value)\n",
    "        return result[0] if result else '0'\n",
    "    return value"
   ],
   "outputs": [],
   "execution_count": null
  },
  {
   "cell_type": "code",
   "id": "e0e1ff8753d7cbd8",
   "metadata": {},
   "source": [
    "from io import StringIO\n",
    "\n",
    "def read_http(http_url):\n",
    "    response = requests.get(http_url)\n",
    "    content = response.text\n",
    "    content = content.replace(\"\\t\", \",\").replace(\",:\", \",0\")\n",
    "    return pd.read_csv(StringIO(content), delimiter=\",\")"
   ],
   "outputs": [],
   "execution_count": null
  },
  {
   "cell_type": "code",
   "id": "b9c773ce9b8beb11",
   "metadata": {},
   "source": [
    "# Read and transform data\n",
    "\n",
    "df = read_http(\"https://ec.europa.eu/eurostat/api/dissemination/sdmx/2.1/data/urb_cecfi?format=TSV\")\n",
    "\n",
    "df = df.rename(columns={\"cities\\\\TIME_PERIOD\": \"city\"})\n",
    "df = df.drop(\"freq\", axis=1)\n",
    "df_melted = df.melt(id_vars=['indic_ur', 'city'], var_name='year', value_name='enterprises')\n",
    "df_melted[\"enterprises\"] = df_melted[\"enterprises\"].apply(remove_alphabets)\n",
    "df_melted[\"year\"] = pd.to_numeric(df_melted[\"year\"].apply(lambda year: year.strip()))\n",
    "df_melted[\"country\"] = df_melted[\"city\"].apply(lambda city: city[:2])\n",
    "df_melted = df_melted[df_melted[\"enterprises\"] != \"0\"]\n",
    "df_melted[\"enterprises\"] = pd.to_numeric(df_melted[\"enterprises\"])"
   ],
   "outputs": [],
   "execution_count": null
  },
  {
   "cell_type": "code",
   "id": "fbac89ac67e17df1",
   "metadata": {
    "ExecuteTime": {
     "end_time": "2025-04-08T11:28:10.388302Z",
     "start_time": "2025-04-08T11:28:10.210956Z"
    }
   },
   "source": [
    "import os\n",
    "from pymongo import MongoClient\n",
    "\n",
    "client = MongoClient(os.getenv(\"MONGO_DB_URI\"))\n",
    "apdv_db = client[\"APDV\"]\n",
    "collection = apdv_db[\"enterprises\"]\n",
    "\n",
    "df_without_index = df_melted.reset_index()\n",
    "data_dict = df_without_index.to_dict(\"records\")\n",
    "output = collection.insert_many(data_dict)"
   ],
   "outputs": [],
   "execution_count": 20
  },
  {
   "cell_type": "code",
   "id": "4939ebd9a6739f64",
   "metadata": {},
   "source": [
    "countries_all_enterprises = df_melted[(df_melted[\"year\"] == 1998)].groupby(by=\"country\").agg({'enterprises': 'sum'})\n",
    "\n",
    "sns.barplot(countries_all_enterprises.sort_values(by=\"enterprises\", ascending=True).tail(10)[::-1], x=\"country\",\n",
    "            y=\"enterprises\").set_title(\"Number of enterprises in top european countries in 1998\")\n",
    "plt.show()"
   ],
   "outputs": [],
   "execution_count": null
  },
  {
   "cell_type": "code",
   "id": "49762cd9e1b1aa72",
   "metadata": {},
   "source": [
    "countries_local_enterprises = df_melted[df_melted[\"indic_ur\"] == \"EC2039V\"].groupby(by=\"country\").agg(\n",
    "    {'enterprises': 'sum'})\n",
    "\n",
    "sns.barplot(countries_local_enterprises.sort_values(by=\"enterprises\", ascending=True).tail(10)[::-1], x=\"country\",\n",
    "            y=\"enterprises\").set_title(\"Number of enterprises in top european countries in 1998\")\n",
    "plt.show()"
   ],
   "outputs": [],
   "execution_count": null
  },
  {
   "cell_type": "code",
   "id": "5675329b777cd87a",
   "metadata": {},
   "source": [
    "city_all_enterprises = df_melted.groupby(by=\"city\").agg({'enterprises': 'sum'})\n",
    "\n",
    "top_cities_with_most_companies = city_all_enterprises.sort_values(by=\"enterprises\", ascending=True).head(10)\n",
    "sns.barplot(top_cities_with_most_companies.iloc[::-1], y = \"city\", x = \"enterprises\")\n",
    "plt.show()"
   ],
   "outputs": [],
   "execution_count": null
  },
  {
   "cell_type": "code",
   "id": "68249a329f2a74a6",
   "metadata": {},
   "source": [
    "city_all_enterprises = df_melted[df_melted[\"indic_ur\"] == \"EC2021V\"].groupby(by=\"city\").agg({'enterprises': 'sum'}).head()\n",
    "sns.barplot(city_all_enterprises.iloc[::-1], y = \"city\", x = \"enterprises\")\n",
    "plt.show()"
   ],
   "outputs": [],
   "execution_count": null
  },
  {
   "cell_type": "code",
   "id": "79e164d9232d0da1",
   "metadata": {},
   "source": [
    "city_local_enterprises = df_melted[df_melted[\"indic_ur\"] == \"EC2039V\"].groupby(by=\"city\").agg({'enterprises': 'sum'}).head()\n",
    "sns.barplot(city_local_enterprises, y = \"city\", x = \"enterprises\")\n",
    "plt.show()"
   ],
   "outputs": [],
   "execution_count": null
  },
  {
   "cell_type": "code",
   "id": "3ba2fb36d84bc1ea",
   "metadata": {},
   "source": [
    "import plotly.express as px\n",
    "\n",
    "top_cities_with_most_local_companies = city_local_enterprises.sort_values(by=\"enterprises\", ascending=False).head(10)\n",
    "# sns.barplot(top_cities_with_most_local_companies.iloc[::-1], y = \"city\", x = \"enterprises\")\n",
    "# plt.show()\n",
    "# Create interactive line chart\n",
    "top_cities_with_most_local_companies.reset_index(inplace=True)\n",
    "fig = px.line(top_cities_with_most_local_companies.iloc[::-1], x=\"city\", y = \"enterprises\", title=\"Yearly Business trend\", markers=True)\n",
    "\n",
    "# Show the chart\n",
    "fig.show()"
   ],
   "outputs": [],
   "execution_count": null
  },
  {
   "cell_type": "code",
   "id": "1aee26e48a1e7c7e",
   "metadata": {},
   "source": [
    "print(df_melted[\"country\"].unique())\n",
    "# ireland = df_melted[df_melted[\"country\"] == \"FR\"]\n",
    "# ireland = ireland[ireland[\"year\"] > 2015]\n",
    "# print(ireland.columns)\n",
    "sns.lineplot(df_melted.head(5000), y = \"enterprises\", x = \"year\", hue=\"country\")\n",
    "plt.show()"
   ],
   "outputs": [],
   "execution_count": null
  },
  {
   "cell_type": "code",
   "id": "960c5f67c18aa478",
   "metadata": {},
   "source": [
    "import plotly.express as px\n",
    "import pandas as pd\n",
    "\n",
    "\n",
    "# Create interactive line chart\n",
    "fig = px.line(df_melted, x=\"year\", y=\"enterprises\", title=\"Yearly Business trend\", markers=True)\n",
    "\n",
    "# Show the chart\n",
    "fig.show()"
   ],
   "outputs": [],
   "execution_count": null
  },
  {
   "cell_type": "code",
   "id": "188b94b0-8be8-4835-8013-a6c236bb2e8f",
   "metadata": {},
   "source": [],
   "outputs": [],
   "execution_count": null
  }
 ],
 "metadata": {
  "kernelspec": {
   "display_name": "anaconda3",
   "language": "python",
   "name": "anaconda3"
  },
  "language_info": {
   "codemirror_mode": {
    "name": "ipython",
    "version": 3
   },
   "file_extension": ".py",
   "mimetype": "text/x-python",
   "name": "python",
   "nbconvert_exporter": "python",
   "pygments_lexer": "ipython3",
   "version": "3.12.9"
  }
 },
 "nbformat": 4,
 "nbformat_minor": 5
}
