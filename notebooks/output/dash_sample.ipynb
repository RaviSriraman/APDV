{
 "cells": [
  {
   "cell_type": "code",
   "id": "34160073",
   "metadata": {
    "execution": {
     "iopub.execute_input": "2025-04-09T10:07:26.150734Z",
     "iopub.status.busy": "2025-04-09T10:07:26.150280Z",
     "iopub.status.idle": "2025-04-09T10:07:27.516460Z",
     "shell.execute_reply": "2025-04-09T10:07:27.516094Z"
    },
    "papermill": {
     "duration": 1.373421,
     "end_time": "2025-04-09T10:07:27.517288",
     "exception": false,
     "start_time": "2025-04-09T10:07:26.143867",
     "status": "completed"
    },
    "tags": [
     "injected-parameters"
    ],
    "ExecuteTime": {
     "end_time": "2025-04-09T10:08:27.657005Z",
     "start_time": "2025-04-09T10:08:27.201374Z"
    }
   },
   "source": [
    "\n",
    "# Injected parameters\n",
    "from dagster_shared import seven as __dm_seven\n",
    "import dagstermill as __dm_dagstermill\n",
    "# context = __dm_dagstermill._reconstitute_job_context(\n",
    "#     **{\n",
    "#         key: __dm_seven.json.loads(value)\n",
    "#         for key, value\n",
    "#         in {'executable_dict': '{\"__class__\": \"ReconstructablePipeline\", \"asset_check_selection\": {\"__frozenset__\": []}, \"asset_selection\": {\"__frozenset__\": [{\"__class__\": \"AssetKey\", \"path\": [\"dash_sample\"]}]}, \"pipeline_name\": \"__ASSET_JOB\", \"repository\": {\"__class__\": \"ReconstructableRepository\", \"container_context\": {}, \"container_image\": null, \"entry_point\": [\"dagster\"], \"executable_path\": \"/Users/ravisreeraman/miniconda3/envs/anaconda3/bin/python3.12\", \"pointer\": {\"__class__\": \"ModuleCodePointer\", \"fn_name\": \"defs\", \"module\": \"enterprises.definitions\", \"working_directory\": \"/Users/ravisreeraman/NCI/semester-1/projects/APDV\"}, \"repository_load_data\": null}, \"solid_selection_str\": null}', 'job_run_dict': '{\"__class__\": \"PipelineRun\", \"asset_check_selection\": {\"__frozenset__\": []}, \"asset_selection\": {\"__frozenset__\": [{\"__class__\": \"AssetKey\", \"path\": [\"dash_sample\"]}]}, \"execution_plan_snapshot_id\": \"0711549863d32240b1319d7ba91d565a2a788d9c\", \"external_pipeline_origin\": {\"__class__\": \"ExternalPipelineOrigin\", \"external_repository_origin\": {\"__class__\": \"ExternalRepositoryOrigin\", \"repository_location_origin\": {\"__class__\": \"GrpcServerRepositoryLocationOrigin\", \"additional_metadata\": {\"module_name\": \"enterprises.definitions\", \"working_directory\": \"/Users/ravisreeraman/NCI/semester-1/projects/APDV\"}, \"host\": \"localhost\", \"location_name\": \"enterprises\", \"port\": null, \"socket\": \"/var/folders/wf/6d56bc7j1fs5dsql9t19qzmw0000gn/T/tmprbtkk95u\"}, \"repository_name\": \"__repository__\"}, \"pipeline_name\": \"__ASSET_JOB\"}, \"has_repository_load_data\": false, \"mode\": null, \"parent_run_id\": null, \"pipeline_code_origin\": {\"__class__\": \"PipelinePythonOrigin\", \"pipeline_name\": \"__ASSET_JOB\", \"repository_origin\": {\"__class__\": \"RepositoryPythonOrigin\", \"code_pointer\": {\"__class__\": \"ModuleCodePointer\", \"fn_name\": \"defs\", \"module\": \"enterprises.definitions\", \"working_directory\": \"/Users/ravisreeraman/NCI/semester-1/projects/APDV\"}, \"container_context\": {}, \"container_image\": null, \"entry_point\": [\"dagster\"], \"executable_path\": \"/Users/ravisreeraman/miniconda3/envs/anaconda3/bin/python3.12\"}}, \"pipeline_name\": \"__ASSET_JOB\", \"pipeline_snapshot_id\": \"ebcdae6754bd21658550855f4495ff7249b862f2\", \"root_run_id\": null, \"run_config\": {}, \"run_id\": \"01cfb927-f1e6-4e37-a37e-88e110c780d1\", \"run_op_concurrency\": null, \"solid_selection\": null, \"solids_to_execute\": null, \"status\": {\"__enum__\": \"PipelineRunStatus.STARTING\"}, \"step_keys_to_execute\": [\"dash_sample\"], \"tags\": {\".dagster/grpc_info\": \"{\\\\\"host\\\\\": \\\\\"localhost\\\\\", \\\\\"socket\\\\\": \\\\\"/var/folders/wf/6d56bc7j1fs5dsql9t19qzmw0000gn/T/tmprbtkk95u\\\\\"}\"}}', 'node_handle_kwargs': '{\"name\": \"dash_sample\", \"parent\": null}', 'instance_ref_dict': '{\"__class__\": \"InstanceRef\", \"compute_logs_data\": {\"__class__\": \"ConfigurableClassData\", \"class_name\": \"LocalComputeLogManager\", \"config_yaml\": \"base_dir: /Users/ravisreeraman/NCI/semester-1/projects/APDV/.tmp_dagster_home_plh9xrym/storage\\\\n\", \"module_name\": \"dagster.core.storage.local_compute_log_manager\"}, \"custom_instance_class_data\": null, \"event_storage_data\": {\"__class__\": \"ConfigurableClassData\", \"class_name\": \"SqliteEventLogStorage\", \"config_yaml\": \"base_dir: /Users/ravisreeraman/NCI/semester-1/projects/APDV/.tmp_dagster_home_plh9xrym/history/runs/\\\\n\", \"module_name\": \"dagster.core.storage.event_log\"}, \"local_artifact_storage_data\": {\"__class__\": \"ConfigurableClassData\", \"class_name\": \"LocalArtifactStorage\", \"config_yaml\": \"base_dir: /Users/ravisreeraman/NCI/semester-1/projects/APDV/.tmp_dagster_home_plh9xrym\\\\n\", \"module_name\": \"dagster.core.storage.root\"}, \"run_coordinator_data\": {\"__class__\": \"ConfigurableClassData\", \"class_name\": \"QueuedRunCoordinator\", \"config_yaml\": \"{}\\\\n\", \"module_name\": \"dagster.core.run_coordinator\"}, \"run_launcher_data\": {\"__class__\": \"ConfigurableClassData\", \"class_name\": \"DefaultRunLauncher\", \"config_yaml\": \"{}\\\\n\", \"module_name\": \"dagster\"}, \"run_storage_data\": {\"__class__\": \"ConfigurableClassData\", \"class_name\": \"SqliteRunStorage\", \"config_yaml\": \"base_dir: /Users/ravisreeraman/NCI/semester-1/projects/APDV/.tmp_dagster_home_plh9xrym/history/\\\\n\", \"module_name\": \"dagster.core.storage.runs\"}, \"schedule_storage_data\": {\"__class__\": \"ConfigurableClassData\", \"class_name\": \"SqliteScheduleStorage\", \"config_yaml\": \"base_dir: /Users/ravisreeraman/NCI/semester-1/projects/APDV/.tmp_dagster_home_plh9xrym/schedules\\\\n\", \"module_name\": \"dagster.core.storage.schedules\"}, \"scheduler_data\": {\"__class__\": \"ConfigurableClassData\", \"class_name\": \"DagsterDaemonScheduler\", \"config_yaml\": \"{}\\\\n\", \"module_name\": \"dagster.core.scheduler\"}, \"secrets_loader_data\": null, \"settings\": {}, \"storage_data\": {\"__class__\": \"ConfigurableClassData\", \"class_name\": \"DagsterSqliteStorage\", \"config_yaml\": \"base_dir: /Users/ravisreeraman/NCI/semester-1/projects/APDV/.tmp_dagster_home_plh9xrym\\\\n\", \"module_name\": \"dagster.core.storage.sqlite_storage\"}}', 'step_key': '\"dash_sample\"', 'output_log_path': '\"/var/folders/wf/6d56bc7j1fs5dsql9t19qzmw0000gn/T/tmpdkvfkesz\"', 'marshal_dir': '\"/tmp/dagstermill/01cfb927-f1e6-4e37-a37e-88e110c780d1/marshal\"', 'run_config': '{}'}.items()\n",
    "#     }\n",
    "# )\n"
   ],
   "outputs": [
    {
     "name": "stderr",
     "output_type": "stream",
     "text": [
      "/Users/ravisreeraman/miniconda3/envs/anaconda3/lib/python3.12/site-packages/dagstermill/manager.py:398: BetaWarning: Class `Manager` is currently in beta, and may have breaking changes in minor version releases, with behavior changes in patch releases.\n",
      "  MANAGER_FOR_NOTEBOOK_INSTANCE = Manager()\n"
     ]
    }
   ],
   "execution_count": 1
  },
  {
   "cell_type": "code",
   "id": "1027de231ee9c3a7",
   "metadata": {
    "execution": {
     "iopub.execute_input": "2025-04-09T10:07:27.526220Z",
     "iopub.status.busy": "2025-04-09T10:07:27.526110Z",
     "iopub.status.idle": "2025-04-09T10:07:27.705106Z",
     "shell.execute_reply": "2025-04-09T10:07:27.703706Z"
    },
    "papermill": {
     "duration": 0.193324,
     "end_time": "2025-04-09T10:07:27.718099",
     "exception": false,
     "start_time": "2025-04-09T10:07:27.524775",
     "status": "completed"
    },
    "tags": [],
    "ExecuteTime": {
     "end_time": "2025-04-09T10:08:27.857322Z",
     "start_time": "2025-04-09T10:08:27.722145Z"
    }
   },
   "source": [
    "from dash import Dash, html, dcc, callback, Output, Input, jupyter_dash\n",
    "import plotly.express as px\n",
    "import pandas as pd\n",
    "from flask_cors import CORS\n"
   ],
   "outputs": [],
   "execution_count": 2
  },
  {
   "cell_type": "code",
   "id": "fe8694351c9a6139",
   "metadata": {
    "execution": {
     "iopub.execute_input": "2025-04-09T10:07:27.725597Z",
     "iopub.status.busy": "2025-04-09T10:07:27.725415Z",
     "iopub.status.idle": "2025-04-09T10:07:27.728078Z",
     "shell.execute_reply": "2025-04-09T10:07:27.727715Z"
    },
    "papermill": {
     "duration": 0.00865,
     "end_time": "2025-04-09T10:07:27.729092",
     "exception": false,
     "start_time": "2025-04-09T10:07:27.720442",
     "status": "completed"
    },
    "tags": [],
    "ExecuteTime": {
     "end_time": "2025-04-09T10:08:27.977193Z",
     "start_time": "2025-04-09T10:08:27.975822Z"
    }
   },
   "source": [
    "jupyter_dash.inline_exceptions = False\n"
   ],
   "outputs": [],
   "execution_count": 3
  },
  {
   "cell_type": "code",
   "id": "e914024469bee34e",
   "metadata": {
    "execution": {
     "iopub.execute_input": "2025-04-09T10:07:27.732174Z",
     "iopub.status.busy": "2025-04-09T10:07:27.731646Z",
     "iopub.status.idle": "2025-04-09T10:07:28.399014Z",
     "shell.execute_reply": "2025-04-09T10:07:28.398677Z"
    },
    "papermill": {
     "duration": 0.670594,
     "end_time": "2025-04-09T10:07:28.400562",
     "exception": false,
     "start_time": "2025-04-09T10:07:27.729968",
     "status": "completed"
    },
    "tags": [],
    "ExecuteTime": {
     "end_time": "2025-04-09T10:08:28.719684Z",
     "start_time": "2025-04-09T10:08:27.981012Z"
    }
   },
   "source": [
    "df = pd.read_csv('https://raw.githubusercontent.com/plotly/datasets/master/gapminder_unfiltered.csv')"
   ],
   "outputs": [],
   "execution_count": 4
  },
  {
   "cell_type": "code",
   "id": "693be12424e5eefc",
   "metadata": {
    "execution": {
     "iopub.execute_input": "2025-04-09T10:07:28.402933Z",
     "iopub.status.busy": "2025-04-09T10:07:28.402823Z",
     "iopub.status.idle": "2025-04-09T10:07:28.509099Z",
     "shell.execute_reply": "2025-04-09T10:07:28.508818Z"
    },
    "papermill": {
     "duration": 0.108632,
     "end_time": "2025-04-09T10:07:28.510361",
     "exception": false,
     "start_time": "2025-04-09T10:07:28.401729",
     "status": "completed"
    },
    "tags": [],
    "ExecuteTime": {
     "end_time": "2025-04-09T10:08:28.838315Z",
     "start_time": "2025-04-09T10:08:28.729523Z"
    }
   },
   "source": [
    "app = Dash()\n",
    "server = app.server\n",
    "CORS(server)\n",
    "app.layout = [\n",
    "    html.H1(children='Title of Dash App', style={'textAlign':'center'}),\n",
    "    dcc.Dropdown(df.country.unique(), 'Canada', id='dropdown-selection'),\n",
    "    dcc.Graph(id='graph-content')\n",
    "]\n",
    "\n",
    "@callback(\n",
    "    Output('graph-content', 'figure'),\n",
    "    Input('dropdown-selection', 'value')\n",
    ")\n",
    "def update_graph(value):\n",
    "    dff = df[df.country==value]\n",
    "    return px.line(dff, x='year', y='pop')"
   ],
   "outputs": [],
   "execution_count": 5
  },
  {
   "cell_type": "code",
   "id": "f0535e92ef0d61c6",
   "metadata": {
    "execution": {
     "iopub.execute_input": "2025-04-09T10:07:28.512608Z",
     "iopub.status.busy": "2025-04-09T10:07:28.512489Z",
     "iopub.status.idle": "2025-04-09T10:07:28.521674Z",
     "shell.execute_reply": "2025-04-09T10:07:28.521380Z"
    },
    "papermill": {
     "duration": 0.011292,
     "end_time": "2025-04-09T10:07:28.522620",
     "exception": false,
     "start_time": "2025-04-09T10:07:28.511328",
     "status": "completed"
    },
    "tags": [],
    "ExecuteTime": {
     "end_time": "2025-04-09T10:08:28.850772Z",
     "start_time": "2025-04-09T10:08:28.842986Z"
    }
   },
   "source": [
    "app.run(port=8060)\n"
   ],
   "outputs": [
    {
     "data": {
      "text/plain": [
       "<IPython.lib.display.IFrame at 0x135327020>"
      ],
      "text/html": [
       "\n",
       "        <iframe\n",
       "            width=\"100%\"\n",
       "            height=\"650\"\n",
       "            src=\"http://127.0.0.1:8060/\"\n",
       "            frameborder=\"0\"\n",
       "            allowfullscreen\n",
       "            \n",
       "        ></iframe>\n",
       "        "
      ]
     },
     "metadata": {},
     "output_type": "display_data"
    }
   ],
   "execution_count": 6
  },
  {
   "cell_type": "code",
   "id": "57b1c144",
   "metadata": {
    "execution": {
     "iopub.execute_input": "2025-04-09T10:07:28.525127Z",
     "iopub.status.busy": "2025-04-09T10:07:28.525015Z",
     "iopub.status.idle": "2025-04-09T10:07:28.526847Z",
     "shell.execute_reply": "2025-04-09T10:07:28.526616Z"
    },
    "papermill": {
     "duration": 0.003963,
     "end_time": "2025-04-09T10:07:28.527698",
     "exception": false,
     "start_time": "2025-04-09T10:07:28.523735",
     "status": "completed"
    },
    "tags": [
     "injected-teardown"
    ],
    "ExecuteTime": {
     "end_time": "2025-04-09T10:08:28.880011Z",
     "start_time": "2025-04-09T10:08:28.878747Z"
    }
   },
   "source": [
    "# import dagstermill as __dm_dagstermill\n",
    "# __dm_dagstermill._teardown()\n"
   ],
   "outputs": [],
   "execution_count": 7
  }
 ],
 "metadata": {
  "kernelspec": {
   "display_name": "anaconda3",
   "language": "python",
   "name": "anaconda3"
  },
  "language_info": {
   "codemirror_mode": {
    "name": "ipython",
    "version": 3
   },
   "file_extension": ".py",
   "mimetype": "text/x-python",
   "name": "python",
   "nbconvert_exporter": "python",
   "pygments_lexer": "ipython3",
   "version": "3.12.9"
  },
  "papermill": {
   "default_parameters": {},
   "duration": 3.309534,
   "end_time": "2025-04-09T10:07:28.945692",
   "environment_variables": {},
   "exception": null,
   "input_path": "/var/folders/wf/6d56bc7j1fs5dsql9t19qzmw0000gn/T/tmpuav29cw3/8132fabb-7411-4098-a97e-de65ac3d4288-inter.ipynb",
   "output_path": "/var/folders/wf/6d56bc7j1fs5dsql9t19qzmw0000gn/T/tmpuav29cw3/8132fabb-7411-4098-a97e-de65ac3d4288-out.ipynb",
   "parameters": "{\"__dm_context\": {\"marshal_dir\": \"/tmp/dagstermill/01cfb927-f1e6-4e37-a37e-88e110c780d1/marshal\", \"output_log_path\": \"/var/folders/wf/6d56bc7j1fs5dsql9t19qzmw0000gn/T/tmpdkvfkesz\", \"run_config\": {}}, \"__dm_executable_dict\": {\"__class__\": \"ReconstructablePipeline\", \"asset_check_selection\": {\"__frozenset__\": []}, \"asset_selection\": {\"__frozenset__\": [{\"__class__\": \"AssetKey\", \"path\": [\"dash_sample\"]}]}, \"pipeline_name\": \"__ASSET_JOB\", \"repository\": {\"__class__\": \"ReconstructableRepository\", \"container_context\": {}, \"container_image\": null, \"entry_point\": [\"dagster\"], \"executable_path\": \"/Users/ravisreeraman/miniconda3/envs/anaconda3/bin/python3.12\", \"pointer\": {\"__class__\": \"ModuleCodePointer\", \"fn_name\": \"defs\", \"module\": \"enterprises.definitions\", \"working_directory\": \"/Users/ravisreeraman/NCI/semester-1/projects/APDV\"}, \"repository_load_data\": null}, \"solid_selection_str\": null}, \"__dm_input_names\": [], \"__dm_instance_ref_dict\": {\"__class__\": \"InstanceRef\", \"compute_logs_data\": {\"__class__\": \"ConfigurableClassData\", \"class_name\": \"LocalComputeLogManager\", \"config_yaml\": \"base_dir: /Users/ravisreeraman/NCI/semester-1/projects/APDV/.tmp_dagster_home_plh9xrym/storage\\n\", \"module_name\": \"dagster.core.storage.local_compute_log_manager\"}, \"custom_instance_class_data\": null, \"event_storage_data\": {\"__class__\": \"ConfigurableClassData\", \"class_name\": \"SqliteEventLogStorage\", \"config_yaml\": \"base_dir: /Users/ravisreeraman/NCI/semester-1/projects/APDV/.tmp_dagster_home_plh9xrym/history/runs/\\n\", \"module_name\": \"dagster.core.storage.event_log\"}, \"local_artifact_storage_data\": {\"__class__\": \"ConfigurableClassData\", \"class_name\": \"LocalArtifactStorage\", \"config_yaml\": \"base_dir: /Users/ravisreeraman/NCI/semester-1/projects/APDV/.tmp_dagster_home_plh9xrym\\n\", \"module_name\": \"dagster.core.storage.root\"}, \"run_coordinator_data\": {\"__class__\": \"ConfigurableClassData\", \"class_name\": \"QueuedRunCoordinator\", \"config_yaml\": \"{}\\n\", \"module_name\": \"dagster.core.run_coordinator\"}, \"run_launcher_data\": {\"__class__\": \"ConfigurableClassData\", \"class_name\": \"DefaultRunLauncher\", \"config_yaml\": \"{}\\n\", \"module_name\": \"dagster\"}, \"run_storage_data\": {\"__class__\": \"ConfigurableClassData\", \"class_name\": \"SqliteRunStorage\", \"config_yaml\": \"base_dir: /Users/ravisreeraman/NCI/semester-1/projects/APDV/.tmp_dagster_home_plh9xrym/history/\\n\", \"module_name\": \"dagster.core.storage.runs\"}, \"schedule_storage_data\": {\"__class__\": \"ConfigurableClassData\", \"class_name\": \"SqliteScheduleStorage\", \"config_yaml\": \"base_dir: /Users/ravisreeraman/NCI/semester-1/projects/APDV/.tmp_dagster_home_plh9xrym/schedules\\n\", \"module_name\": \"dagster.core.storage.schedules\"}, \"scheduler_data\": {\"__class__\": \"ConfigurableClassData\", \"class_name\": \"DagsterDaemonScheduler\", \"config_yaml\": \"{}\\n\", \"module_name\": \"dagster.core.scheduler\"}, \"secrets_loader_data\": null, \"settings\": {}, \"storage_data\": {\"__class__\": \"ConfigurableClassData\", \"class_name\": \"DagsterSqliteStorage\", \"config_yaml\": \"base_dir: /Users/ravisreeraman/NCI/semester-1/projects/APDV/.tmp_dagster_home_plh9xrym\\n\", \"module_name\": \"dagster.core.storage.sqlite_storage\"}}, \"__dm_node_handle_kwargs\": {\"name\": \"dash_sample\", \"parent\": null}, \"__dm_pipeline_run_dict\": {\"__class__\": \"PipelineRun\", \"asset_check_selection\": {\"__frozenset__\": []}, \"asset_selection\": {\"__frozenset__\": [{\"__class__\": \"AssetKey\", \"path\": [\"dash_sample\"]}]}, \"execution_plan_snapshot_id\": \"0711549863d32240b1319d7ba91d565a2a788d9c\", \"external_pipeline_origin\": {\"__class__\": \"ExternalPipelineOrigin\", \"external_repository_origin\": {\"__class__\": \"ExternalRepositoryOrigin\", \"repository_location_origin\": {\"__class__\": \"GrpcServerRepositoryLocationOrigin\", \"additional_metadata\": {\"module_name\": \"enterprises.definitions\", \"working_directory\": \"/Users/ravisreeraman/NCI/semester-1/projects/APDV\"}, \"host\": \"localhost\", \"location_name\": \"enterprises\", \"port\": null, \"socket\": \"/var/folders/wf/6d56bc7j1fs5dsql9t19qzmw0000gn/T/tmprbtkk95u\"}, \"repository_name\": \"__repository__\"}, \"pipeline_name\": \"__ASSET_JOB\"}, \"has_repository_load_data\": false, \"mode\": null, \"parent_run_id\": null, \"pipeline_code_origin\": {\"__class__\": \"PipelinePythonOrigin\", \"pipeline_name\": \"__ASSET_JOB\", \"repository_origin\": {\"__class__\": \"RepositoryPythonOrigin\", \"code_pointer\": {\"__class__\": \"ModuleCodePointer\", \"fn_name\": \"defs\", \"module\": \"enterprises.definitions\", \"working_directory\": \"/Users/ravisreeraman/NCI/semester-1/projects/APDV\"}, \"container_context\": {}, \"container_image\": null, \"entry_point\": [\"dagster\"], \"executable_path\": \"/Users/ravisreeraman/miniconda3/envs/anaconda3/bin/python3.12\"}}, \"pipeline_name\": \"__ASSET_JOB\", \"pipeline_snapshot_id\": \"ebcdae6754bd21658550855f4495ff7249b862f2\", \"root_run_id\": null, \"run_config\": {}, \"run_id\": \"01cfb927-f1e6-4e37-a37e-88e110c780d1\", \"run_op_concurrency\": null, \"solid_selection\": null, \"solids_to_execute\": null, \"status\": {\"__enum__\": \"PipelineRunStatus.STARTING\"}, \"step_keys_to_execute\": [\"dash_sample\"], \"tags\": {\".dagster/grpc_info\": \"{\\\"host\\\": \\\"localhost\\\", \\\"socket\\\": \\\"/var/folders/wf/6d56bc7j1fs5dsql9t19qzmw0000gn/T/tmprbtkk95u\\\"}\"}}, \"__dm_step_key\": \"dash_sample\"}",
   "start_time": "2025-04-09T10:07:25.636158",
   "version": "2.6.0"
  }
 },
 "nbformat": 4,
 "nbformat_minor": 5
}
