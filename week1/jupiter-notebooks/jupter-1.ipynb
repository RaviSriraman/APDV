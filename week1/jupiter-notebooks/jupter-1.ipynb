{
 "cells": [
  {
   "cell_type": "code",
   "id": "7ed5559e-5a8d-4c23-80e6-854a42cac3c2",
   "metadata": {
    "ExecuteTime": {
     "end_time": "2025-01-30T08:43:46.676751Z",
     "start_time": "2025-01-30T08:43:46.674222Z"
    }
   },
   "source": [
    "print('This is a message')\n",
    "\n",
    "x = 10\n",
    "\n",
    "print(x + 1)\n",
    "\n"
   ],
   "outputs": [
    {
     "name": "stdout",
     "output_type": "stream",
     "text": [
      "This is a message\n",
      "11\n"
     ]
    }
   ],
   "execution_count": 2
  },
  {
   "cell_type": "code",
   "id": "8cc5ff5e-404f-4034-9c59-3d5fbdabf624",
   "metadata": {
    "ExecuteTime": {
     "end_time": "2025-01-30T08:43:49.650112Z",
     "start_time": "2025-01-30T08:43:49.646418Z"
    }
   },
   "source": [
    "10 + 11"
   ],
   "outputs": [
    {
     "data": {
      "text/plain": [
       "21"
      ]
     },
     "execution_count": 3,
     "metadata": {},
     "output_type": "execute_result"
    }
   ],
   "execution_count": 3
  },
  {
   "cell_type": "code",
   "execution_count": null,
   "id": "2a583e41-828c-49e5-8ff3-2011d6d18e19",
   "metadata": {},
   "outputs": [],
   "source": []
  }
 ],
 "metadata": {
  "kernelspec": {
   "display_name": "Python [conda env:anaconda3]",
   "language": "python",
   "name": "conda-env-anaconda3-py"
  },
  "language_info": {
   "codemirror_mode": {
    "name": "ipython",
    "version": 3
   },
   "file_extension": ".py",
   "mimetype": "text/x-python",
   "name": "python",
   "nbconvert_exporter": "python",
   "pygments_lexer": "ipython3",
   "version": "3.12.8"
  }
 },
 "nbformat": 4,
 "nbformat_minor": 5
}
